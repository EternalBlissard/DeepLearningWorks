{
  "nbformat": 4,
  "nbformat_minor": 0,
  "metadata": {
    "colab": {
      "provenance": []
    },
    "kernelspec": {
      "name": "python3",
      "display_name": "Python 3"
    },
    "language_info": {
      "name": "python"
    }
  },
  "cells": [
    {
      "cell_type": "markdown",
      "source": [
        "#MLP From Stratch (Sigmoid Activation, MSE Loss)"
      ],
      "metadata": {
        "id": "knqv6G6wxTb6"
      }
    },
    {
      "cell_type": "markdown",
      "source": [
        "#Imports"
      ],
      "metadata": {
        "id": "BN0llW5xxcti"
      }
    },
    {
      "cell_type": "code",
      "execution_count": 1,
      "metadata": {
        "id": "ToGFkYjOxSLS"
      },
      "outputs": [],
      "source": [
        "import matplotlib.pyplot as plt\n",
        "import pandas as pd\n",
        "import torch\n",
        "%matplotlib inline"
      ]
    },
    {
      "cell_type": "code",
      "source": [
        "import time\n",
        "import numpy as np\n",
        "from torchvision import datasets\n",
        "from torchvision import transforms\n",
        "from torch.utils.data import DataLoader\n",
        "import torch.nn.functional as F\n",
        "import torch"
      ],
      "metadata": {
        "id": "XeM7RWMOxrF7"
      },
      "execution_count": 2,
      "outputs": []
    },
    {
      "cell_type": "markdown",
      "source": [
        "Settings and DataSet"
      ],
      "metadata": {
        "id": "hb64f8goyBo2"
      }
    },
    {
      "cell_type": "code",
      "source": [
        "randomSeed = 1\n",
        "numEpochs = 50\n",
        "batchSize = 100"
      ],
      "metadata": {
        "id": "QZqCX_xWx47p"
      },
      "execution_count": 3,
      "outputs": []
    },
    {
      "cell_type": "code",
      "source": [
        "trainData = datasets.MNIST(root='data',\n",
        "                           train=True,\n",
        "                           transform=transforms.ToTensor(),\n",
        "                           download=True)\n",
        "\n",
        "testData = datasets.MNIST(root='data',\n",
        "                          train=False,\n",
        "                          transform = transforms.ToTensor())\n",
        "\n",
        "trainLoader = DataLoader(dataset = trainData, batch_size = batchSize, shuffle=True)\n",
        "testLoader  = DataLoader(dataset = testData , batch_size = batchSize, shuffle=True)"
      ],
      "metadata": {
        "colab": {
          "base_uri": "https://localhost:8080/"
        },
        "id": "0wCiFDZSySNS",
        "outputId": "246f0065-ea22-4c9b-a2f2-166830c2ddfb"
      },
      "execution_count": 4,
      "outputs": [
        {
          "output_type": "stream",
          "name": "stdout",
          "text": [
            "Downloading http://yann.lecun.com/exdb/mnist/train-images-idx3-ubyte.gz\n",
            "Downloading http://yann.lecun.com/exdb/mnist/train-images-idx3-ubyte.gz to data/MNIST/raw/train-images-idx3-ubyte.gz\n"
          ]
        },
        {
          "output_type": "stream",
          "name": "stderr",
          "text": [
            "100%|██████████| 9912422/9912422 [00:00<00:00, 145297986.81it/s]"
          ]
        },
        {
          "output_type": "stream",
          "name": "stdout",
          "text": [
            "Extracting data/MNIST/raw/train-images-idx3-ubyte.gz to data/MNIST/raw\n"
          ]
        },
        {
          "output_type": "stream",
          "name": "stderr",
          "text": [
            "\n"
          ]
        },
        {
          "output_type": "stream",
          "name": "stdout",
          "text": [
            "\n",
            "Downloading http://yann.lecun.com/exdb/mnist/train-labels-idx1-ubyte.gz\n",
            "Downloading http://yann.lecun.com/exdb/mnist/train-labels-idx1-ubyte.gz to data/MNIST/raw/train-labels-idx1-ubyte.gz\n"
          ]
        },
        {
          "output_type": "stream",
          "name": "stderr",
          "text": [
            "100%|██████████| 28881/28881 [00:00<00:00, 77750766.25it/s]\n"
          ]
        },
        {
          "output_type": "stream",
          "name": "stdout",
          "text": [
            "Extracting data/MNIST/raw/train-labels-idx1-ubyte.gz to data/MNIST/raw\n",
            "\n",
            "Downloading http://yann.lecun.com/exdb/mnist/t10k-images-idx3-ubyte.gz\n",
            "Downloading http://yann.lecun.com/exdb/mnist/t10k-images-idx3-ubyte.gz to data/MNIST/raw/t10k-images-idx3-ubyte.gz\n"
          ]
        },
        {
          "output_type": "stream",
          "name": "stderr",
          "text": [
            "100%|██████████| 1648877/1648877 [00:00<00:00, 34315059.45it/s]\n"
          ]
        },
        {
          "output_type": "stream",
          "name": "stdout",
          "text": [
            "Extracting data/MNIST/raw/t10k-images-idx3-ubyte.gz to data/MNIST/raw\n",
            "\n",
            "Downloading http://yann.lecun.com/exdb/mnist/t10k-labels-idx1-ubyte.gz\n",
            "Downloading http://yann.lecun.com/exdb/mnist/t10k-labels-idx1-ubyte.gz to data/MNIST/raw/t10k-labels-idx1-ubyte.gz\n"
          ]
        },
        {
          "output_type": "stream",
          "name": "stderr",
          "text": [
            "100%|██████████| 4542/4542 [00:00<00:00, 11869488.33it/s]"
          ]
        },
        {
          "output_type": "stream",
          "name": "stdout",
          "text": [
            "Extracting data/MNIST/raw/t10k-labels-idx1-ubyte.gz to data/MNIST/raw\n",
            "\n"
          ]
        },
        {
          "output_type": "stream",
          "name": "stderr",
          "text": [
            "\n"
          ]
        }
      ]
    },
    {
      "cell_type": "code",
      "source": [
        "for images,labels in trainLoader:\n",
        "  print('Image batch dimensions: ', images.shape)\n",
        "  print('Label batch dimensions: ', labels.shape)\n",
        "  break"
      ],
      "metadata": {
        "colab": {
          "base_uri": "https://localhost:8080/"
        },
        "id": "36Mx69qIytuP",
        "outputId": "03fcd528-a294-45d3-fba6-9b4773e92cb1"
      },
      "execution_count": 5,
      "outputs": [
        {
          "output_type": "stream",
          "name": "stdout",
          "text": [
            "Image batch dimensions:  torch.Size([100, 1, 28, 28])\n",
            "Label batch dimensions:  torch.Size([100])\n"
          ]
        }
      ]
    },
    {
      "cell_type": "markdown",
      "source": [
        "###Model"
      ],
      "metadata": {
        "id": "ormY1e7kl4cE"
      }
    },
    {
      "cell_type": "code",
      "source": [
        "class MLP():\n",
        "\n",
        "  def __init__(self,numFeatures,numHidden,numClasses):\n",
        "    super(MLP,self).__init__()\n",
        "    self.numClasses = numClasses\n",
        "    self.weightLinear = torch.zeros(numHidden, numFeatures,dtype = torch.float).normal_(0,0.1)\n",
        "    self.biasLinear = torch.zeros(numHidden, dtype= torch.float)\n",
        "    self.weightOut = torch.zeros(numClasses,numHidden, dtype = torch.float).normal_(0,0.1)\n",
        "    self.biasOut = torch.zeros(numClasses, dtype= torch.float)\n",
        "\n",
        "  def forward(self,x):\n",
        "    z1 = torch.mm(x,self.weightLinear.t()) + self.biasLinear\n",
        "    a1 = torch.sigmoid(z1)\n",
        "\n",
        "    z2 = torch.mm(a1,self.weightOut.t()) + self.biasOut\n",
        "    a2 = torch.sigmoid(z2)\n",
        "\n",
        "    return a1,a2\n",
        "\n",
        "  def backward(self,x,a1,a2,y):\n",
        "\n",
        "    #####\n",
        "    ## Output layer weights\n",
        "    #####\n",
        "\n",
        "    yOneHot = torch.FloatTensor(y.size(0), self.numClasses)\n",
        "    yOneHot.zero_()\n",
        "    yOneHot.scatter_(1, y.view(-1,1).long(),1)\n",
        "    dloss_da2 = 2*(a2 - yOneHot)/y.size(0)\n",
        "    da2_dz2 = a2 * (1-a2)\n",
        "    delta_out = dloss_da2 * da2_dz2\n",
        "    dz2_dwOut = a1\n",
        "    dloss_dwOut = torch.mm(delta_out.t(), dz2_dwOut)\n",
        "    dloss_dbOut = torch.sum(delta_out, dim=0)\n",
        "    dz2_a1 = self.weightOut\n",
        "    dloss_a1 = torch.mm(delta_out,dz2_a1)\n",
        "    da1_dz1 = a1 * (1-a1)\n",
        "    dz1_dw1 = x\n",
        "    dloss_dw1 = torch.mm((dloss_a1*da1_dz1).t(),dz1_dw1)\n",
        "    dloss_db1 = torch.sum((dloss_a1*da1_dz1), dim =0)\n",
        "    return dloss_dwOut, dloss_dbOut, dloss_dw1, dloss_db1\n",
        ""
      ],
      "metadata": {
        "id": "OIhZ2GWrywrf"
      },
      "execution_count": 6,
      "outputs": []
    },
    {
      "cell_type": "markdown",
      "source": [
        "###Training"
      ],
      "metadata": {
        "id": "CVDzapfll664"
      }
    },
    {
      "cell_type": "code",
      "source": [
        "#####\n",
        "##Training\n",
        "\n",
        "def toOneHot(y,numClasses):\n",
        "  yOneHot = torch.FloatTensor(y.size(0),numClasses)\n",
        "  yOneHot.zero_()\n",
        "  yOneHot.scatter_(1,y.view(-1,1).long(),1).float()\n",
        "  return yOneHot\n",
        "\n",
        "def lossFunc(targetsOneHot, probasOneHot):\n",
        "  return torch.mean(torch.mean(targetsOneHot - probasOneHot)**2, dim=0)\n",
        "\n",
        "def computeMean(net,dataLoader):\n",
        "  currMSE,numExamples = torch.zeros(model.numClasses).float() , 0\n",
        "  with torch.no_grad():\n",
        "    for features,targets in dataLoader:\n",
        "      features = features.view(-1,28*28)\n",
        "      logits,probas = net.forward(features)\n",
        "      yOneHot = toOneHot(targets,model.numClasses)\n",
        "      loss = torch.sum((yOneHot - probas)**2, dim=0)\n",
        "      numExamples+=targets.size(0)\n",
        "      currMSE+=loss\n",
        "    currMSE = torch.mean(currMSE/numExamples, dim=0)\n",
        "    return currMSE\n",
        "\n",
        "def train(model, trainLoader,numEpochs,learningRate=0.1):\n",
        "  miniBatchCost = []\n",
        "  epochCost = []\n",
        "\n",
        "  for e in range(numEpochs):\n",
        "    for batchIDx, (features,targets) in enumerate(trainLoader):\n",
        "      features = features.view(-1,784)\n",
        "      a1,a2 = model.forward(features)\n",
        "      dloss_dwOut, dloss_dbOut, dloss_dw1, dloss_db1 = model.backward(features,a1,a2,targets)\n",
        "\n",
        "      model.weightLinear-=learningRate*dloss_dw1\n",
        "      model.biasLinear  -=learningRate*dloss_db1\n",
        "      model.weightOut   -=learningRate*dloss_dwOut\n",
        "      model.biasOut     -=learningRate*dloss_dbOut\n",
        "\n",
        "      ####Logging\n",
        "      currCost = lossFunc(toOneHot(targets,model.numClasses),a2)\n",
        "      miniBatchCost.append(currCost)\n",
        "      if not batchIDx % 50:\n",
        "        print(\"Epoch: %03d/%03d | Batch %03d/%03d | Cost: %.4f\" %(e+1,numEpochs,batchIDx,len(trainLoader),currCost))\n",
        "    currCost = computeMean(model,trainLoader)\n",
        "    epochCost.append(currCost)\n",
        "    print(\"Epoch: %03d/%03d | Cost: %.4f\" %(e+1,numEpochs,currCost))\n",
        "  return miniBatchCost, epochCost\n"
      ],
      "metadata": {
        "id": "1k6DFlyl3IWi"
      },
      "execution_count": 7,
      "outputs": []
    },
    {
      "cell_type": "code",
      "source": [
        "###Training\n",
        "torch.manual_seed(randomSeed)\n",
        "model = MLP(28*28,50,10)\n",
        "miniBatchCost, epochCost = train(model,trainLoader,numEpochs,0.1)\n",
        "\n"
      ],
      "metadata": {
        "colab": {
          "base_uri": "https://localhost:8080/"
        },
        "id": "rdpd55FHpzDs",
        "outputId": "d3e97bcc-4e15-4bf3-8eda-718eb6e15e8a"
      },
      "execution_count": 8,
      "outputs": [
        {
          "output_type": "stream",
          "name": "stdout",
          "text": [
            "Epoch: 001/050 | Batch 000/600 | Cost: 0.1418\n",
            "Epoch: 001/050 | Batch 050/600 | Cost: 0.0001\n",
            "Epoch: 001/050 | Batch 100/600 | Cost: 0.0000\n",
            "Epoch: 001/050 | Batch 150/600 | Cost: 0.0001\n",
            "Epoch: 001/050 | Batch 200/600 | Cost: 0.0001\n",
            "Epoch: 001/050 | Batch 250/600 | Cost: 0.0002\n",
            "Epoch: 001/050 | Batch 300/600 | Cost: 0.0004\n",
            "Epoch: 001/050 | Batch 350/600 | Cost: 0.0006\n",
            "Epoch: 001/050 | Batch 400/600 | Cost: 0.0008\n",
            "Epoch: 001/050 | Batch 450/600 | Cost: 0.0008\n",
            "Epoch: 001/050 | Batch 500/600 | Cost: 0.0010\n",
            "Epoch: 001/050 | Batch 550/600 | Cost: 0.0011\n",
            "Epoch: 001/050 | Cost: 0.0658\n",
            "Epoch: 002/050 | Batch 000/600 | Cost: 0.0013\n",
            "Epoch: 002/050 | Batch 050/600 | Cost: 0.0015\n",
            "Epoch: 002/050 | Batch 100/600 | Cost: 0.0015\n",
            "Epoch: 002/050 | Batch 150/600 | Cost: 0.0013\n",
            "Epoch: 002/050 | Batch 200/600 | Cost: 0.0015\n",
            "Epoch: 002/050 | Batch 250/600 | Cost: 0.0017\n",
            "Epoch: 002/050 | Batch 300/600 | Cost: 0.0013\n",
            "Epoch: 002/050 | Batch 350/600 | Cost: 0.0013\n",
            "Epoch: 002/050 | Batch 400/600 | Cost: 0.0013\n",
            "Epoch: 002/050 | Batch 450/600 | Cost: 0.0012\n",
            "Epoch: 002/050 | Batch 500/600 | Cost: 0.0011\n",
            "Epoch: 002/050 | Batch 550/600 | Cost: 0.0009\n",
            "Epoch: 002/050 | Cost: 0.0430\n",
            "Epoch: 003/050 | Batch 000/600 | Cost: 0.0010\n",
            "Epoch: 003/050 | Batch 050/600 | Cost: 0.0009\n",
            "Epoch: 003/050 | Batch 100/600 | Cost: 0.0013\n",
            "Epoch: 003/050 | Batch 150/600 | Cost: 0.0007\n",
            "Epoch: 003/050 | Batch 200/600 | Cost: 0.0009\n",
            "Epoch: 003/050 | Batch 250/600 | Cost: 0.0008\n",
            "Epoch: 003/050 | Batch 300/600 | Cost: 0.0008\n",
            "Epoch: 003/050 | Batch 350/600 | Cost: 0.0007\n",
            "Epoch: 003/050 | Batch 400/600 | Cost: 0.0006\n",
            "Epoch: 003/050 | Batch 450/600 | Cost: 0.0004\n",
            "Epoch: 003/050 | Batch 500/600 | Cost: 0.0006\n",
            "Epoch: 003/050 | Batch 550/600 | Cost: 0.0005\n",
            "Epoch: 003/050 | Cost: 0.0325\n",
            "Epoch: 004/050 | Batch 000/600 | Cost: 0.0005\n",
            "Epoch: 004/050 | Batch 050/600 | Cost: 0.0005\n",
            "Epoch: 004/050 | Batch 100/600 | Cost: 0.0004\n",
            "Epoch: 004/050 | Batch 150/600 | Cost: 0.0004\n",
            "Epoch: 004/050 | Batch 200/600 | Cost: 0.0005\n",
            "Epoch: 004/050 | Batch 250/600 | Cost: 0.0003\n",
            "Epoch: 004/050 | Batch 300/600 | Cost: 0.0004\n",
            "Epoch: 004/050 | Batch 350/600 | Cost: 0.0004\n",
            "Epoch: 004/050 | Batch 400/600 | Cost: 0.0003\n",
            "Epoch: 004/050 | Batch 450/600 | Cost: 0.0003\n",
            "Epoch: 004/050 | Batch 500/600 | Cost: 0.0003\n",
            "Epoch: 004/050 | Batch 550/600 | Cost: 0.0004\n",
            "Epoch: 004/050 | Cost: 0.0269\n",
            "Epoch: 005/050 | Batch 000/600 | Cost: 0.0003\n",
            "Epoch: 005/050 | Batch 050/600 | Cost: 0.0003\n",
            "Epoch: 005/050 | Batch 100/600 | Cost: 0.0003\n",
            "Epoch: 005/050 | Batch 150/600 | Cost: 0.0002\n",
            "Epoch: 005/050 | Batch 200/600 | Cost: 0.0003\n",
            "Epoch: 005/050 | Batch 250/600 | Cost: 0.0003\n",
            "Epoch: 005/050 | Batch 300/600 | Cost: 0.0003\n",
            "Epoch: 005/050 | Batch 350/600 | Cost: 0.0002\n",
            "Epoch: 005/050 | Batch 400/600 | Cost: 0.0003\n",
            "Epoch: 005/050 | Batch 450/600 | Cost: 0.0002\n",
            "Epoch: 005/050 | Batch 500/600 | Cost: 0.0002\n",
            "Epoch: 005/050 | Batch 550/600 | Cost: 0.0001\n",
            "Epoch: 005/050 | Cost: 0.0237\n",
            "Epoch: 006/050 | Batch 000/600 | Cost: 0.0002\n",
            "Epoch: 006/050 | Batch 050/600 | Cost: 0.0002\n",
            "Epoch: 006/050 | Batch 100/600 | Cost: 0.0002\n",
            "Epoch: 006/050 | Batch 150/600 | Cost: 0.0002\n",
            "Epoch: 006/050 | Batch 200/600 | Cost: 0.0002\n",
            "Epoch: 006/050 | Batch 250/600 | Cost: 0.0001\n",
            "Epoch: 006/050 | Batch 300/600 | Cost: 0.0002\n",
            "Epoch: 006/050 | Batch 350/600 | Cost: 0.0002\n",
            "Epoch: 006/050 | Batch 400/600 | Cost: 0.0002\n",
            "Epoch: 006/050 | Batch 450/600 | Cost: 0.0001\n",
            "Epoch: 006/050 | Batch 500/600 | Cost: 0.0002\n",
            "Epoch: 006/050 | Batch 550/600 | Cost: 0.0001\n",
            "Epoch: 006/050 | Cost: 0.0216\n",
            "Epoch: 007/050 | Batch 000/600 | Cost: 0.0001\n",
            "Epoch: 007/050 | Batch 050/600 | Cost: 0.0001\n",
            "Epoch: 007/050 | Batch 100/600 | Cost: 0.0001\n",
            "Epoch: 007/050 | Batch 150/600 | Cost: 0.0001\n",
            "Epoch: 007/050 | Batch 200/600 | Cost: 0.0001\n",
            "Epoch: 007/050 | Batch 250/600 | Cost: 0.0001\n",
            "Epoch: 007/050 | Batch 300/600 | Cost: 0.0001\n",
            "Epoch: 007/050 | Batch 350/600 | Cost: 0.0001\n",
            "Epoch: 007/050 | Batch 400/600 | Cost: 0.0001\n",
            "Epoch: 007/050 | Batch 450/600 | Cost: 0.0001\n",
            "Epoch: 007/050 | Batch 500/600 | Cost: 0.0001\n",
            "Epoch: 007/050 | Batch 550/600 | Cost: 0.0001\n",
            "Epoch: 007/050 | Cost: 0.0201\n",
            "Epoch: 008/050 | Batch 000/600 | Cost: 0.0001\n",
            "Epoch: 008/050 | Batch 050/600 | Cost: 0.0001\n",
            "Epoch: 008/050 | Batch 100/600 | Cost: 0.0001\n",
            "Epoch: 008/050 | Batch 150/600 | Cost: 0.0001\n",
            "Epoch: 008/050 | Batch 200/600 | Cost: 0.0001\n",
            "Epoch: 008/050 | Batch 250/600 | Cost: 0.0001\n",
            "Epoch: 008/050 | Batch 300/600 | Cost: 0.0001\n",
            "Epoch: 008/050 | Batch 350/600 | Cost: 0.0001\n",
            "Epoch: 008/050 | Batch 400/600 | Cost: 0.0001\n",
            "Epoch: 008/050 | Batch 450/600 | Cost: 0.0001\n",
            "Epoch: 008/050 | Batch 500/600 | Cost: 0.0001\n",
            "Epoch: 008/050 | Batch 550/600 | Cost: 0.0000\n",
            "Epoch: 008/050 | Cost: 0.0189\n",
            "Epoch: 009/050 | Batch 000/600 | Cost: 0.0001\n",
            "Epoch: 009/050 | Batch 050/600 | Cost: 0.0001\n",
            "Epoch: 009/050 | Batch 100/600 | Cost: 0.0001\n",
            "Epoch: 009/050 | Batch 150/600 | Cost: 0.0000\n",
            "Epoch: 009/050 | Batch 200/600 | Cost: 0.0002\n",
            "Epoch: 009/050 | Batch 250/600 | Cost: 0.0001\n",
            "Epoch: 009/050 | Batch 300/600 | Cost: 0.0000\n",
            "Epoch: 009/050 | Batch 350/600 | Cost: 0.0001\n",
            "Epoch: 009/050 | Batch 400/600 | Cost: 0.0001\n",
            "Epoch: 009/050 | Batch 450/600 | Cost: 0.0001\n",
            "Epoch: 009/050 | Batch 500/600 | Cost: 0.0001\n",
            "Epoch: 009/050 | Batch 550/600 | Cost: 0.0000\n",
            "Epoch: 009/050 | Cost: 0.0180\n",
            "Epoch: 010/050 | Batch 000/600 | Cost: 0.0001\n",
            "Epoch: 010/050 | Batch 050/600 | Cost: 0.0001\n",
            "Epoch: 010/050 | Batch 100/600 | Cost: 0.0001\n",
            "Epoch: 010/050 | Batch 150/600 | Cost: 0.0001\n",
            "Epoch: 010/050 | Batch 200/600 | Cost: 0.0001\n",
            "Epoch: 010/050 | Batch 250/600 | Cost: 0.0001\n",
            "Epoch: 010/050 | Batch 300/600 | Cost: 0.0001\n",
            "Epoch: 010/050 | Batch 350/600 | Cost: 0.0001\n",
            "Epoch: 010/050 | Batch 400/600 | Cost: 0.0001\n",
            "Epoch: 010/050 | Batch 450/600 | Cost: 0.0001\n",
            "Epoch: 010/050 | Batch 500/600 | Cost: 0.0000\n",
            "Epoch: 010/050 | Batch 550/600 | Cost: 0.0001\n",
            "Epoch: 010/050 | Cost: 0.0173\n",
            "Epoch: 011/050 | Batch 000/600 | Cost: 0.0001\n",
            "Epoch: 011/050 | Batch 050/600 | Cost: 0.0001\n",
            "Epoch: 011/050 | Batch 100/600 | Cost: 0.0001\n",
            "Epoch: 011/050 | Batch 150/600 | Cost: 0.0001\n",
            "Epoch: 011/050 | Batch 200/600 | Cost: 0.0000\n",
            "Epoch: 011/050 | Batch 250/600 | Cost: 0.0001\n",
            "Epoch: 011/050 | Batch 300/600 | Cost: 0.0000\n",
            "Epoch: 011/050 | Batch 350/600 | Cost: 0.0001\n",
            "Epoch: 011/050 | Batch 400/600 | Cost: 0.0000\n",
            "Epoch: 011/050 | Batch 450/600 | Cost: 0.0000\n",
            "Epoch: 011/050 | Batch 500/600 | Cost: 0.0001\n",
            "Epoch: 011/050 | Batch 550/600 | Cost: 0.0000\n",
            "Epoch: 011/050 | Cost: 0.0166\n",
            "Epoch: 012/050 | Batch 000/600 | Cost: 0.0001\n",
            "Epoch: 012/050 | Batch 050/600 | Cost: 0.0001\n",
            "Epoch: 012/050 | Batch 100/600 | Cost: 0.0000\n",
            "Epoch: 012/050 | Batch 150/600 | Cost: 0.0000\n",
            "Epoch: 012/050 | Batch 200/600 | Cost: 0.0000\n",
            "Epoch: 012/050 | Batch 250/600 | Cost: 0.0001\n",
            "Epoch: 012/050 | Batch 300/600 | Cost: 0.0000\n",
            "Epoch: 012/050 | Batch 350/600 | Cost: 0.0001\n",
            "Epoch: 012/050 | Batch 400/600 | Cost: 0.0000\n",
            "Epoch: 012/050 | Batch 450/600 | Cost: 0.0000\n",
            "Epoch: 012/050 | Batch 500/600 | Cost: 0.0000\n",
            "Epoch: 012/050 | Batch 550/600 | Cost: 0.0000\n",
            "Epoch: 012/050 | Cost: 0.0161\n",
            "Epoch: 013/050 | Batch 000/600 | Cost: 0.0000\n",
            "Epoch: 013/050 | Batch 050/600 | Cost: 0.0000\n",
            "Epoch: 013/050 | Batch 100/600 | Cost: 0.0000\n",
            "Epoch: 013/050 | Batch 150/600 | Cost: 0.0001\n",
            "Epoch: 013/050 | Batch 200/600 | Cost: 0.0001\n",
            "Epoch: 013/050 | Batch 250/600 | Cost: 0.0000\n",
            "Epoch: 013/050 | Batch 300/600 | Cost: 0.0000\n",
            "Epoch: 013/050 | Batch 350/600 | Cost: 0.0000\n",
            "Epoch: 013/050 | Batch 400/600 | Cost: 0.0000\n",
            "Epoch: 013/050 | Batch 450/600 | Cost: 0.0000\n",
            "Epoch: 013/050 | Batch 500/600 | Cost: 0.0000\n",
            "Epoch: 013/050 | Batch 550/600 | Cost: 0.0001\n",
            "Epoch: 013/050 | Cost: 0.0156\n",
            "Epoch: 014/050 | Batch 000/600 | Cost: 0.0000\n",
            "Epoch: 014/050 | Batch 050/600 | Cost: 0.0000\n",
            "Epoch: 014/050 | Batch 100/600 | Cost: 0.0000\n",
            "Epoch: 014/050 | Batch 150/600 | Cost: 0.0000\n",
            "Epoch: 014/050 | Batch 200/600 | Cost: 0.0000\n",
            "Epoch: 014/050 | Batch 250/600 | Cost: 0.0000\n",
            "Epoch: 014/050 | Batch 300/600 | Cost: 0.0000\n",
            "Epoch: 014/050 | Batch 350/600 | Cost: 0.0000\n",
            "Epoch: 014/050 | Batch 400/600 | Cost: 0.0000\n",
            "Epoch: 014/050 | Batch 450/600 | Cost: 0.0000\n",
            "Epoch: 014/050 | Batch 500/600 | Cost: 0.0000\n",
            "Epoch: 014/050 | Batch 550/600 | Cost: 0.0000\n",
            "Epoch: 014/050 | Cost: 0.0152\n",
            "Epoch: 015/050 | Batch 000/600 | Cost: 0.0000\n",
            "Epoch: 015/050 | Batch 050/600 | Cost: 0.0000\n",
            "Epoch: 015/050 | Batch 100/600 | Cost: 0.0000\n",
            "Epoch: 015/050 | Batch 150/600 | Cost: 0.0001\n",
            "Epoch: 015/050 | Batch 200/600 | Cost: 0.0000\n",
            "Epoch: 015/050 | Batch 250/600 | Cost: 0.0000\n",
            "Epoch: 015/050 | Batch 300/600 | Cost: 0.0001\n",
            "Epoch: 015/050 | Batch 350/600 | Cost: 0.0000\n",
            "Epoch: 015/050 | Batch 400/600 | Cost: 0.0001\n",
            "Epoch: 015/050 | Batch 450/600 | Cost: 0.0000\n",
            "Epoch: 015/050 | Batch 500/600 | Cost: 0.0000\n",
            "Epoch: 015/050 | Batch 550/600 | Cost: 0.0000\n",
            "Epoch: 015/050 | Cost: 0.0148\n",
            "Epoch: 016/050 | Batch 000/600 | Cost: 0.0000\n",
            "Epoch: 016/050 | Batch 050/600 | Cost: 0.0001\n",
            "Epoch: 016/050 | Batch 100/600 | Cost: 0.0000\n",
            "Epoch: 016/050 | Batch 150/600 | Cost: 0.0000\n",
            "Epoch: 016/050 | Batch 200/600 | Cost: 0.0000\n",
            "Epoch: 016/050 | Batch 250/600 | Cost: 0.0000\n",
            "Epoch: 016/050 | Batch 300/600 | Cost: 0.0000\n",
            "Epoch: 016/050 | Batch 350/600 | Cost: 0.0000\n",
            "Epoch: 016/050 | Batch 400/600 | Cost: 0.0000\n",
            "Epoch: 016/050 | Batch 450/600 | Cost: 0.0000\n",
            "Epoch: 016/050 | Batch 500/600 | Cost: 0.0000\n",
            "Epoch: 016/050 | Batch 550/600 | Cost: 0.0000\n",
            "Epoch: 016/050 | Cost: 0.0145\n",
            "Epoch: 017/050 | Batch 000/600 | Cost: 0.0001\n",
            "Epoch: 017/050 | Batch 050/600 | Cost: 0.0000\n",
            "Epoch: 017/050 | Batch 100/600 | Cost: 0.0001\n",
            "Epoch: 017/050 | Batch 150/600 | Cost: 0.0000\n",
            "Epoch: 017/050 | Batch 200/600 | Cost: 0.0000\n",
            "Epoch: 017/050 | Batch 250/600 | Cost: 0.0000\n",
            "Epoch: 017/050 | Batch 300/600 | Cost: 0.0000\n",
            "Epoch: 017/050 | Batch 350/600 | Cost: 0.0000\n",
            "Epoch: 017/050 | Batch 400/600 | Cost: 0.0000\n",
            "Epoch: 017/050 | Batch 450/600 | Cost: 0.0000\n",
            "Epoch: 017/050 | Batch 500/600 | Cost: 0.0000\n",
            "Epoch: 017/050 | Batch 550/600 | Cost: 0.0000\n",
            "Epoch: 017/050 | Cost: 0.0141\n",
            "Epoch: 018/050 | Batch 000/600 | Cost: 0.0000\n",
            "Epoch: 018/050 | Batch 050/600 | Cost: 0.0000\n",
            "Epoch: 018/050 | Batch 100/600 | Cost: 0.0000\n",
            "Epoch: 018/050 | Batch 150/600 | Cost: 0.0000\n",
            "Epoch: 018/050 | Batch 200/600 | Cost: 0.0000\n",
            "Epoch: 018/050 | Batch 250/600 | Cost: 0.0001\n",
            "Epoch: 018/050 | Batch 300/600 | Cost: 0.0000\n",
            "Epoch: 018/050 | Batch 350/600 | Cost: 0.0000\n",
            "Epoch: 018/050 | Batch 400/600 | Cost: 0.0000\n",
            "Epoch: 018/050 | Batch 450/600 | Cost: 0.0000\n",
            "Epoch: 018/050 | Batch 500/600 | Cost: 0.0000\n",
            "Epoch: 018/050 | Batch 550/600 | Cost: 0.0000\n",
            "Epoch: 018/050 | Cost: 0.0139\n",
            "Epoch: 019/050 | Batch 000/600 | Cost: 0.0000\n",
            "Epoch: 019/050 | Batch 050/600 | Cost: 0.0000\n",
            "Epoch: 019/050 | Batch 100/600 | Cost: 0.0000\n",
            "Epoch: 019/050 | Batch 150/600 | Cost: 0.0000\n",
            "Epoch: 019/050 | Batch 200/600 | Cost: 0.0000\n",
            "Epoch: 019/050 | Batch 250/600 | Cost: 0.0000\n",
            "Epoch: 019/050 | Batch 300/600 | Cost: 0.0000\n",
            "Epoch: 019/050 | Batch 350/600 | Cost: 0.0000\n",
            "Epoch: 019/050 | Batch 400/600 | Cost: 0.0000\n",
            "Epoch: 019/050 | Batch 450/600 | Cost: 0.0000\n",
            "Epoch: 019/050 | Batch 500/600 | Cost: 0.0000\n",
            "Epoch: 019/050 | Batch 550/600 | Cost: 0.0000\n",
            "Epoch: 019/050 | Cost: 0.0136\n",
            "Epoch: 020/050 | Batch 000/600 | Cost: 0.0000\n",
            "Epoch: 020/050 | Batch 050/600 | Cost: 0.0000\n",
            "Epoch: 020/050 | Batch 100/600 | Cost: 0.0000\n",
            "Epoch: 020/050 | Batch 150/600 | Cost: 0.0000\n",
            "Epoch: 020/050 | Batch 200/600 | Cost: 0.0000\n",
            "Epoch: 020/050 | Batch 250/600 | Cost: 0.0000\n",
            "Epoch: 020/050 | Batch 300/600 | Cost: 0.0000\n",
            "Epoch: 020/050 | Batch 350/600 | Cost: 0.0000\n",
            "Epoch: 020/050 | Batch 400/600 | Cost: 0.0000\n",
            "Epoch: 020/050 | Batch 450/600 | Cost: 0.0000\n",
            "Epoch: 020/050 | Batch 500/600 | Cost: 0.0000\n",
            "Epoch: 020/050 | Batch 550/600 | Cost: 0.0000\n",
            "Epoch: 020/050 | Cost: 0.0133\n",
            "Epoch: 021/050 | Batch 000/600 | Cost: 0.0000\n",
            "Epoch: 021/050 | Batch 050/600 | Cost: 0.0000\n",
            "Epoch: 021/050 | Batch 100/600 | Cost: 0.0000\n",
            "Epoch: 021/050 | Batch 150/600 | Cost: 0.0000\n",
            "Epoch: 021/050 | Batch 200/600 | Cost: 0.0000\n",
            "Epoch: 021/050 | Batch 250/600 | Cost: 0.0000\n",
            "Epoch: 021/050 | Batch 300/600 | Cost: 0.0000\n",
            "Epoch: 021/050 | Batch 350/600 | Cost: 0.0000\n",
            "Epoch: 021/050 | Batch 400/600 | Cost: 0.0000\n",
            "Epoch: 021/050 | Batch 450/600 | Cost: 0.0000\n",
            "Epoch: 021/050 | Batch 500/600 | Cost: 0.0000\n",
            "Epoch: 021/050 | Batch 550/600 | Cost: 0.0000\n",
            "Epoch: 021/050 | Cost: 0.0131\n",
            "Epoch: 022/050 | Batch 000/600 | Cost: 0.0000\n",
            "Epoch: 022/050 | Batch 050/600 | Cost: 0.0000\n",
            "Epoch: 022/050 | Batch 100/600 | Cost: 0.0000\n",
            "Epoch: 022/050 | Batch 150/600 | Cost: 0.0000\n",
            "Epoch: 022/050 | Batch 200/600 | Cost: 0.0000\n",
            "Epoch: 022/050 | Batch 250/600 | Cost: 0.0000\n",
            "Epoch: 022/050 | Batch 300/600 | Cost: 0.0000\n",
            "Epoch: 022/050 | Batch 350/600 | Cost: 0.0000\n",
            "Epoch: 022/050 | Batch 400/600 | Cost: 0.0000\n",
            "Epoch: 022/050 | Batch 450/600 | Cost: 0.0000\n",
            "Epoch: 022/050 | Batch 500/600 | Cost: 0.0000\n",
            "Epoch: 022/050 | Batch 550/600 | Cost: 0.0000\n",
            "Epoch: 022/050 | Cost: 0.0129\n",
            "Epoch: 023/050 | Batch 000/600 | Cost: 0.0000\n",
            "Epoch: 023/050 | Batch 050/600 | Cost: 0.0000\n",
            "Epoch: 023/050 | Batch 100/600 | Cost: 0.0000\n",
            "Epoch: 023/050 | Batch 150/600 | Cost: 0.0000\n",
            "Epoch: 023/050 | Batch 200/600 | Cost: 0.0000\n",
            "Epoch: 023/050 | Batch 250/600 | Cost: 0.0000\n",
            "Epoch: 023/050 | Batch 300/600 | Cost: 0.0000\n",
            "Epoch: 023/050 | Batch 350/600 | Cost: 0.0000\n",
            "Epoch: 023/050 | Batch 400/600 | Cost: 0.0000\n",
            "Epoch: 023/050 | Batch 450/600 | Cost: 0.0000\n",
            "Epoch: 023/050 | Batch 500/600 | Cost: 0.0000\n",
            "Epoch: 023/050 | Batch 550/600 | Cost: 0.0000\n",
            "Epoch: 023/050 | Cost: 0.0127\n",
            "Epoch: 024/050 | Batch 000/600 | Cost: 0.0000\n",
            "Epoch: 024/050 | Batch 050/600 | Cost: 0.0000\n",
            "Epoch: 024/050 | Batch 100/600 | Cost: 0.0000\n",
            "Epoch: 024/050 | Batch 150/600 | Cost: 0.0000\n",
            "Epoch: 024/050 | Batch 200/600 | Cost: 0.0000\n",
            "Epoch: 024/050 | Batch 250/600 | Cost: 0.0000\n",
            "Epoch: 024/050 | Batch 300/600 | Cost: 0.0000\n",
            "Epoch: 024/050 | Batch 350/600 | Cost: 0.0000\n",
            "Epoch: 024/050 | Batch 400/600 | Cost: 0.0000\n",
            "Epoch: 024/050 | Batch 450/600 | Cost: 0.0001\n",
            "Epoch: 024/050 | Batch 500/600 | Cost: 0.0000\n",
            "Epoch: 024/050 | Batch 550/600 | Cost: 0.0000\n",
            "Epoch: 024/050 | Cost: 0.0125\n",
            "Epoch: 025/050 | Batch 000/600 | Cost: 0.0000\n",
            "Epoch: 025/050 | Batch 050/600 | Cost: 0.0000\n",
            "Epoch: 025/050 | Batch 100/600 | Cost: 0.0000\n",
            "Epoch: 025/050 | Batch 150/600 | Cost: 0.0000\n",
            "Epoch: 025/050 | Batch 200/600 | Cost: 0.0000\n",
            "Epoch: 025/050 | Batch 250/600 | Cost: 0.0000\n",
            "Epoch: 025/050 | Batch 300/600 | Cost: 0.0000\n",
            "Epoch: 025/050 | Batch 350/600 | Cost: 0.0000\n",
            "Epoch: 025/050 | Batch 400/600 | Cost: 0.0000\n",
            "Epoch: 025/050 | Batch 450/600 | Cost: 0.0000\n",
            "Epoch: 025/050 | Batch 500/600 | Cost: 0.0000\n",
            "Epoch: 025/050 | Batch 550/600 | Cost: 0.0000\n",
            "Epoch: 025/050 | Cost: 0.0123\n",
            "Epoch: 026/050 | Batch 000/600 | Cost: 0.0000\n",
            "Epoch: 026/050 | Batch 050/600 | Cost: 0.0000\n",
            "Epoch: 026/050 | Batch 100/600 | Cost: 0.0000\n",
            "Epoch: 026/050 | Batch 150/600 | Cost: 0.0000\n",
            "Epoch: 026/050 | Batch 200/600 | Cost: 0.0000\n",
            "Epoch: 026/050 | Batch 250/600 | Cost: 0.0000\n",
            "Epoch: 026/050 | Batch 300/600 | Cost: 0.0000\n",
            "Epoch: 026/050 | Batch 350/600 | Cost: 0.0000\n",
            "Epoch: 026/050 | Batch 400/600 | Cost: 0.0000\n",
            "Epoch: 026/050 | Batch 450/600 | Cost: 0.0000\n",
            "Epoch: 026/050 | Batch 500/600 | Cost: 0.0000\n",
            "Epoch: 026/050 | Batch 550/600 | Cost: 0.0000\n",
            "Epoch: 026/050 | Cost: 0.0121\n",
            "Epoch: 027/050 | Batch 000/600 | Cost: 0.0000\n",
            "Epoch: 027/050 | Batch 050/600 | Cost: 0.0000\n",
            "Epoch: 027/050 | Batch 100/600 | Cost: 0.0000\n",
            "Epoch: 027/050 | Batch 150/600 | Cost: 0.0000\n",
            "Epoch: 027/050 | Batch 200/600 | Cost: 0.0000\n",
            "Epoch: 027/050 | Batch 250/600 | Cost: 0.0000\n",
            "Epoch: 027/050 | Batch 300/600 | Cost: 0.0000\n",
            "Epoch: 027/050 | Batch 350/600 | Cost: 0.0000\n",
            "Epoch: 027/050 | Batch 400/600 | Cost: 0.0000\n",
            "Epoch: 027/050 | Batch 450/600 | Cost: 0.0000\n",
            "Epoch: 027/050 | Batch 500/600 | Cost: 0.0000\n",
            "Epoch: 027/050 | Batch 550/600 | Cost: 0.0000\n",
            "Epoch: 027/050 | Cost: 0.0120\n",
            "Epoch: 028/050 | Batch 000/600 | Cost: 0.0000\n",
            "Epoch: 028/050 | Batch 050/600 | Cost: 0.0000\n",
            "Epoch: 028/050 | Batch 100/600 | Cost: 0.0000\n",
            "Epoch: 028/050 | Batch 150/600 | Cost: 0.0000\n",
            "Epoch: 028/050 | Batch 200/600 | Cost: 0.0000\n",
            "Epoch: 028/050 | Batch 250/600 | Cost: 0.0000\n",
            "Epoch: 028/050 | Batch 300/600 | Cost: 0.0000\n",
            "Epoch: 028/050 | Batch 350/600 | Cost: 0.0000\n",
            "Epoch: 028/050 | Batch 400/600 | Cost: 0.0000\n",
            "Epoch: 028/050 | Batch 450/600 | Cost: 0.0000\n",
            "Epoch: 028/050 | Batch 500/600 | Cost: 0.0000\n",
            "Epoch: 028/050 | Batch 550/600 | Cost: 0.0000\n",
            "Epoch: 028/050 | Cost: 0.0118\n",
            "Epoch: 029/050 | Batch 000/600 | Cost: 0.0000\n",
            "Epoch: 029/050 | Batch 050/600 | Cost: 0.0000\n",
            "Epoch: 029/050 | Batch 100/600 | Cost: 0.0000\n",
            "Epoch: 029/050 | Batch 150/600 | Cost: 0.0000\n",
            "Epoch: 029/050 | Batch 200/600 | Cost: 0.0000\n",
            "Epoch: 029/050 | Batch 250/600 | Cost: 0.0000\n",
            "Epoch: 029/050 | Batch 300/600 | Cost: 0.0000\n",
            "Epoch: 029/050 | Batch 350/600 | Cost: 0.0000\n",
            "Epoch: 029/050 | Batch 400/600 | Cost: 0.0000\n",
            "Epoch: 029/050 | Batch 450/600 | Cost: 0.0000\n",
            "Epoch: 029/050 | Batch 500/600 | Cost: 0.0000\n",
            "Epoch: 029/050 | Batch 550/600 | Cost: 0.0000\n",
            "Epoch: 029/050 | Cost: 0.0117\n",
            "Epoch: 030/050 | Batch 000/600 | Cost: 0.0000\n",
            "Epoch: 030/050 | Batch 050/600 | Cost: 0.0000\n",
            "Epoch: 030/050 | Batch 100/600 | Cost: 0.0000\n",
            "Epoch: 030/050 | Batch 150/600 | Cost: 0.0000\n",
            "Epoch: 030/050 | Batch 200/600 | Cost: 0.0000\n",
            "Epoch: 030/050 | Batch 250/600 | Cost: 0.0000\n",
            "Epoch: 030/050 | Batch 300/600 | Cost: 0.0000\n",
            "Epoch: 030/050 | Batch 350/600 | Cost: 0.0000\n",
            "Epoch: 030/050 | Batch 400/600 | Cost: 0.0000\n",
            "Epoch: 030/050 | Batch 450/600 | Cost: 0.0000\n",
            "Epoch: 030/050 | Batch 500/600 | Cost: 0.0000\n",
            "Epoch: 030/050 | Batch 550/600 | Cost: 0.0000\n",
            "Epoch: 030/050 | Cost: 0.0115\n",
            "Epoch: 031/050 | Batch 000/600 | Cost: 0.0000\n",
            "Epoch: 031/050 | Batch 050/600 | Cost: 0.0000\n",
            "Epoch: 031/050 | Batch 100/600 | Cost: 0.0000\n",
            "Epoch: 031/050 | Batch 150/600 | Cost: 0.0000\n",
            "Epoch: 031/050 | Batch 200/600 | Cost: 0.0000\n",
            "Epoch: 031/050 | Batch 250/600 | Cost: 0.0000\n",
            "Epoch: 031/050 | Batch 300/600 | Cost: 0.0000\n",
            "Epoch: 031/050 | Batch 350/600 | Cost: 0.0000\n",
            "Epoch: 031/050 | Batch 400/600 | Cost: 0.0000\n",
            "Epoch: 031/050 | Batch 450/600 | Cost: 0.0000\n",
            "Epoch: 031/050 | Batch 500/600 | Cost: 0.0000\n",
            "Epoch: 031/050 | Batch 550/600 | Cost: 0.0000\n",
            "Epoch: 031/050 | Cost: 0.0114\n",
            "Epoch: 032/050 | Batch 000/600 | Cost: 0.0000\n",
            "Epoch: 032/050 | Batch 050/600 | Cost: 0.0000\n",
            "Epoch: 032/050 | Batch 100/600 | Cost: 0.0000\n",
            "Epoch: 032/050 | Batch 150/600 | Cost: 0.0000\n",
            "Epoch: 032/050 | Batch 200/600 | Cost: 0.0000\n",
            "Epoch: 032/050 | Batch 250/600 | Cost: 0.0000\n",
            "Epoch: 032/050 | Batch 300/600 | Cost: 0.0000\n",
            "Epoch: 032/050 | Batch 350/600 | Cost: 0.0000\n",
            "Epoch: 032/050 | Batch 400/600 | Cost: 0.0000\n",
            "Epoch: 032/050 | Batch 450/600 | Cost: 0.0000\n",
            "Epoch: 032/050 | Batch 500/600 | Cost: 0.0000\n",
            "Epoch: 032/050 | Batch 550/600 | Cost: 0.0000\n",
            "Epoch: 032/050 | Cost: 0.0113\n",
            "Epoch: 033/050 | Batch 000/600 | Cost: 0.0000\n",
            "Epoch: 033/050 | Batch 050/600 | Cost: 0.0000\n",
            "Epoch: 033/050 | Batch 100/600 | Cost: 0.0000\n",
            "Epoch: 033/050 | Batch 150/600 | Cost: 0.0000\n",
            "Epoch: 033/050 | Batch 200/600 | Cost: 0.0000\n",
            "Epoch: 033/050 | Batch 250/600 | Cost: 0.0000\n",
            "Epoch: 033/050 | Batch 300/600 | Cost: 0.0000\n",
            "Epoch: 033/050 | Batch 350/600 | Cost: 0.0000\n",
            "Epoch: 033/050 | Batch 400/600 | Cost: 0.0000\n",
            "Epoch: 033/050 | Batch 450/600 | Cost: 0.0000\n",
            "Epoch: 033/050 | Batch 500/600 | Cost: 0.0000\n",
            "Epoch: 033/050 | Batch 550/600 | Cost: 0.0000\n",
            "Epoch: 033/050 | Cost: 0.0111\n",
            "Epoch: 034/050 | Batch 000/600 | Cost: 0.0000\n",
            "Epoch: 034/050 | Batch 050/600 | Cost: 0.0000\n",
            "Epoch: 034/050 | Batch 100/600 | Cost: 0.0000\n",
            "Epoch: 034/050 | Batch 150/600 | Cost: 0.0000\n",
            "Epoch: 034/050 | Batch 200/600 | Cost: 0.0000\n",
            "Epoch: 034/050 | Batch 250/600 | Cost: 0.0000\n",
            "Epoch: 034/050 | Batch 300/600 | Cost: 0.0000\n",
            "Epoch: 034/050 | Batch 350/600 | Cost: 0.0000\n",
            "Epoch: 034/050 | Batch 400/600 | Cost: 0.0000\n",
            "Epoch: 034/050 | Batch 450/600 | Cost: 0.0000\n",
            "Epoch: 034/050 | Batch 500/600 | Cost: 0.0000\n",
            "Epoch: 034/050 | Batch 550/600 | Cost: 0.0000\n",
            "Epoch: 034/050 | Cost: 0.0110\n",
            "Epoch: 035/050 | Batch 000/600 | Cost: 0.0000\n",
            "Epoch: 035/050 | Batch 050/600 | Cost: 0.0000\n",
            "Epoch: 035/050 | Batch 100/600 | Cost: 0.0000\n",
            "Epoch: 035/050 | Batch 150/600 | Cost: 0.0000\n",
            "Epoch: 035/050 | Batch 200/600 | Cost: 0.0000\n",
            "Epoch: 035/050 | Batch 250/600 | Cost: 0.0000\n",
            "Epoch: 035/050 | Batch 300/600 | Cost: 0.0000\n",
            "Epoch: 035/050 | Batch 350/600 | Cost: 0.0000\n",
            "Epoch: 035/050 | Batch 400/600 | Cost: 0.0000\n",
            "Epoch: 035/050 | Batch 450/600 | Cost: 0.0000\n",
            "Epoch: 035/050 | Batch 500/600 | Cost: 0.0000\n",
            "Epoch: 035/050 | Batch 550/600 | Cost: 0.0000\n",
            "Epoch: 035/050 | Cost: 0.0109\n",
            "Epoch: 036/050 | Batch 000/600 | Cost: 0.0000\n",
            "Epoch: 036/050 | Batch 050/600 | Cost: 0.0000\n",
            "Epoch: 036/050 | Batch 100/600 | Cost: 0.0000\n",
            "Epoch: 036/050 | Batch 150/600 | Cost: 0.0000\n",
            "Epoch: 036/050 | Batch 200/600 | Cost: 0.0000\n",
            "Epoch: 036/050 | Batch 250/600 | Cost: 0.0000\n",
            "Epoch: 036/050 | Batch 300/600 | Cost: 0.0000\n",
            "Epoch: 036/050 | Batch 350/600 | Cost: 0.0000\n",
            "Epoch: 036/050 | Batch 400/600 | Cost: 0.0000\n",
            "Epoch: 036/050 | Batch 450/600 | Cost: 0.0000\n",
            "Epoch: 036/050 | Batch 500/600 | Cost: 0.0000\n",
            "Epoch: 036/050 | Batch 550/600 | Cost: 0.0000\n",
            "Epoch: 036/050 | Cost: 0.0108\n",
            "Epoch: 037/050 | Batch 000/600 | Cost: 0.0000\n",
            "Epoch: 037/050 | Batch 050/600 | Cost: 0.0000\n",
            "Epoch: 037/050 | Batch 100/600 | Cost: 0.0000\n",
            "Epoch: 037/050 | Batch 150/600 | Cost: 0.0000\n",
            "Epoch: 037/050 | Batch 200/600 | Cost: 0.0000\n",
            "Epoch: 037/050 | Batch 250/600 | Cost: 0.0000\n",
            "Epoch: 037/050 | Batch 300/600 | Cost: 0.0000\n",
            "Epoch: 037/050 | Batch 350/600 | Cost: 0.0000\n",
            "Epoch: 037/050 | Batch 400/600 | Cost: 0.0000\n",
            "Epoch: 037/050 | Batch 450/600 | Cost: 0.0000\n",
            "Epoch: 037/050 | Batch 500/600 | Cost: 0.0000\n",
            "Epoch: 037/050 | Batch 550/600 | Cost: 0.0000\n",
            "Epoch: 037/050 | Cost: 0.0107\n",
            "Epoch: 038/050 | Batch 000/600 | Cost: 0.0000\n",
            "Epoch: 038/050 | Batch 050/600 | Cost: 0.0000\n",
            "Epoch: 038/050 | Batch 100/600 | Cost: 0.0000\n",
            "Epoch: 038/050 | Batch 150/600 | Cost: 0.0000\n",
            "Epoch: 038/050 | Batch 200/600 | Cost: 0.0000\n",
            "Epoch: 038/050 | Batch 250/600 | Cost: 0.0000\n",
            "Epoch: 038/050 | Batch 300/600 | Cost: 0.0000\n",
            "Epoch: 038/050 | Batch 350/600 | Cost: 0.0000\n",
            "Epoch: 038/050 | Batch 400/600 | Cost: 0.0000\n",
            "Epoch: 038/050 | Batch 450/600 | Cost: 0.0000\n",
            "Epoch: 038/050 | Batch 500/600 | Cost: 0.0000\n",
            "Epoch: 038/050 | Batch 550/600 | Cost: 0.0000\n",
            "Epoch: 038/050 | Cost: 0.0105\n",
            "Epoch: 039/050 | Batch 000/600 | Cost: 0.0000\n",
            "Epoch: 039/050 | Batch 050/600 | Cost: 0.0000\n",
            "Epoch: 039/050 | Batch 100/600 | Cost: 0.0000\n",
            "Epoch: 039/050 | Batch 150/600 | Cost: 0.0000\n",
            "Epoch: 039/050 | Batch 200/600 | Cost: 0.0000\n",
            "Epoch: 039/050 | Batch 250/600 | Cost: 0.0000\n",
            "Epoch: 039/050 | Batch 300/600 | Cost: 0.0000\n",
            "Epoch: 039/050 | Batch 350/600 | Cost: 0.0000\n",
            "Epoch: 039/050 | Batch 400/600 | Cost: 0.0000\n",
            "Epoch: 039/050 | Batch 450/600 | Cost: 0.0000\n",
            "Epoch: 039/050 | Batch 500/600 | Cost: 0.0000\n",
            "Epoch: 039/050 | Batch 550/600 | Cost: 0.0000\n",
            "Epoch: 039/050 | Cost: 0.0104\n",
            "Epoch: 040/050 | Batch 000/600 | Cost: 0.0000\n",
            "Epoch: 040/050 | Batch 050/600 | Cost: 0.0000\n",
            "Epoch: 040/050 | Batch 100/600 | Cost: 0.0000\n",
            "Epoch: 040/050 | Batch 150/600 | Cost: 0.0000\n",
            "Epoch: 040/050 | Batch 200/600 | Cost: 0.0000\n",
            "Epoch: 040/050 | Batch 250/600 | Cost: 0.0000\n",
            "Epoch: 040/050 | Batch 300/600 | Cost: 0.0000\n",
            "Epoch: 040/050 | Batch 350/600 | Cost: 0.0000\n",
            "Epoch: 040/050 | Batch 400/600 | Cost: 0.0000\n",
            "Epoch: 040/050 | Batch 450/600 | Cost: 0.0000\n",
            "Epoch: 040/050 | Batch 500/600 | Cost: 0.0000\n",
            "Epoch: 040/050 | Batch 550/600 | Cost: 0.0000\n",
            "Epoch: 040/050 | Cost: 0.0103\n",
            "Epoch: 041/050 | Batch 000/600 | Cost: 0.0000\n",
            "Epoch: 041/050 | Batch 050/600 | Cost: 0.0000\n",
            "Epoch: 041/050 | Batch 100/600 | Cost: 0.0000\n",
            "Epoch: 041/050 | Batch 150/600 | Cost: 0.0000\n",
            "Epoch: 041/050 | Batch 200/600 | Cost: 0.0000\n",
            "Epoch: 041/050 | Batch 250/600 | Cost: 0.0000\n",
            "Epoch: 041/050 | Batch 300/600 | Cost: 0.0000\n",
            "Epoch: 041/050 | Batch 350/600 | Cost: 0.0000\n",
            "Epoch: 041/050 | Batch 400/600 | Cost: 0.0000\n",
            "Epoch: 041/050 | Batch 450/600 | Cost: 0.0000\n",
            "Epoch: 041/050 | Batch 500/600 | Cost: 0.0000\n",
            "Epoch: 041/050 | Batch 550/600 | Cost: 0.0000\n",
            "Epoch: 041/050 | Cost: 0.0102\n",
            "Epoch: 042/050 | Batch 000/600 | Cost: 0.0000\n",
            "Epoch: 042/050 | Batch 050/600 | Cost: 0.0000\n",
            "Epoch: 042/050 | Batch 100/600 | Cost: 0.0000\n",
            "Epoch: 042/050 | Batch 150/600 | Cost: 0.0000\n",
            "Epoch: 042/050 | Batch 200/600 | Cost: 0.0000\n",
            "Epoch: 042/050 | Batch 250/600 | Cost: 0.0000\n",
            "Epoch: 042/050 | Batch 300/600 | Cost: 0.0000\n",
            "Epoch: 042/050 | Batch 350/600 | Cost: 0.0000\n",
            "Epoch: 042/050 | Batch 400/600 | Cost: 0.0000\n",
            "Epoch: 042/050 | Batch 450/600 | Cost: 0.0000\n",
            "Epoch: 042/050 | Batch 500/600 | Cost: 0.0000\n",
            "Epoch: 042/050 | Batch 550/600 | Cost: 0.0000\n",
            "Epoch: 042/050 | Cost: 0.0101\n",
            "Epoch: 043/050 | Batch 000/600 | Cost: 0.0000\n",
            "Epoch: 043/050 | Batch 050/600 | Cost: 0.0000\n",
            "Epoch: 043/050 | Batch 100/600 | Cost: 0.0000\n",
            "Epoch: 043/050 | Batch 150/600 | Cost: 0.0000\n",
            "Epoch: 043/050 | Batch 200/600 | Cost: 0.0000\n",
            "Epoch: 043/050 | Batch 250/600 | Cost: 0.0000\n",
            "Epoch: 043/050 | Batch 300/600 | Cost: 0.0000\n",
            "Epoch: 043/050 | Batch 350/600 | Cost: 0.0000\n",
            "Epoch: 043/050 | Batch 400/600 | Cost: 0.0000\n",
            "Epoch: 043/050 | Batch 450/600 | Cost: 0.0000\n",
            "Epoch: 043/050 | Batch 500/600 | Cost: 0.0000\n",
            "Epoch: 043/050 | Batch 550/600 | Cost: 0.0000\n",
            "Epoch: 043/050 | Cost: 0.0100\n",
            "Epoch: 044/050 | Batch 000/600 | Cost: 0.0000\n",
            "Epoch: 044/050 | Batch 050/600 | Cost: 0.0000\n",
            "Epoch: 044/050 | Batch 100/600 | Cost: 0.0000\n",
            "Epoch: 044/050 | Batch 150/600 | Cost: 0.0000\n",
            "Epoch: 044/050 | Batch 200/600 | Cost: 0.0000\n",
            "Epoch: 044/050 | Batch 250/600 | Cost: 0.0000\n",
            "Epoch: 044/050 | Batch 300/600 | Cost: 0.0000\n",
            "Epoch: 044/050 | Batch 350/600 | Cost: 0.0000\n",
            "Epoch: 044/050 | Batch 400/600 | Cost: 0.0000\n",
            "Epoch: 044/050 | Batch 450/600 | Cost: 0.0000\n",
            "Epoch: 044/050 | Batch 500/600 | Cost: 0.0000\n",
            "Epoch: 044/050 | Batch 550/600 | Cost: 0.0000\n",
            "Epoch: 044/050 | Cost: 0.0100\n",
            "Epoch: 045/050 | Batch 000/600 | Cost: 0.0000\n",
            "Epoch: 045/050 | Batch 050/600 | Cost: 0.0000\n",
            "Epoch: 045/050 | Batch 100/600 | Cost: 0.0000\n",
            "Epoch: 045/050 | Batch 150/600 | Cost: 0.0000\n",
            "Epoch: 045/050 | Batch 200/600 | Cost: 0.0000\n",
            "Epoch: 045/050 | Batch 250/600 | Cost: 0.0000\n",
            "Epoch: 045/050 | Batch 300/600 | Cost: 0.0000\n",
            "Epoch: 045/050 | Batch 350/600 | Cost: 0.0000\n",
            "Epoch: 045/050 | Batch 400/600 | Cost: 0.0000\n",
            "Epoch: 045/050 | Batch 450/600 | Cost: 0.0000\n",
            "Epoch: 045/050 | Batch 500/600 | Cost: 0.0000\n",
            "Epoch: 045/050 | Batch 550/600 | Cost: 0.0000\n",
            "Epoch: 045/050 | Cost: 0.0099\n",
            "Epoch: 046/050 | Batch 000/600 | Cost: 0.0000\n",
            "Epoch: 046/050 | Batch 050/600 | Cost: 0.0000\n",
            "Epoch: 046/050 | Batch 100/600 | Cost: 0.0000\n",
            "Epoch: 046/050 | Batch 150/600 | Cost: 0.0000\n",
            "Epoch: 046/050 | Batch 200/600 | Cost: 0.0000\n",
            "Epoch: 046/050 | Batch 250/600 | Cost: 0.0000\n",
            "Epoch: 046/050 | Batch 300/600 | Cost: 0.0000\n",
            "Epoch: 046/050 | Batch 350/600 | Cost: 0.0000\n",
            "Epoch: 046/050 | Batch 400/600 | Cost: 0.0000\n",
            "Epoch: 046/050 | Batch 450/600 | Cost: 0.0000\n",
            "Epoch: 046/050 | Batch 500/600 | Cost: 0.0000\n",
            "Epoch: 046/050 | Batch 550/600 | Cost: 0.0000\n",
            "Epoch: 046/050 | Cost: 0.0098\n",
            "Epoch: 047/050 | Batch 000/600 | Cost: 0.0000\n",
            "Epoch: 047/050 | Batch 050/600 | Cost: 0.0000\n",
            "Epoch: 047/050 | Batch 100/600 | Cost: 0.0000\n",
            "Epoch: 047/050 | Batch 150/600 | Cost: 0.0000\n",
            "Epoch: 047/050 | Batch 200/600 | Cost: 0.0000\n",
            "Epoch: 047/050 | Batch 250/600 | Cost: 0.0000\n",
            "Epoch: 047/050 | Batch 300/600 | Cost: 0.0000\n",
            "Epoch: 047/050 | Batch 350/600 | Cost: 0.0000\n",
            "Epoch: 047/050 | Batch 400/600 | Cost: 0.0000\n",
            "Epoch: 047/050 | Batch 450/600 | Cost: 0.0000\n",
            "Epoch: 047/050 | Batch 500/600 | Cost: 0.0000\n",
            "Epoch: 047/050 | Batch 550/600 | Cost: 0.0000\n",
            "Epoch: 047/050 | Cost: 0.0097\n",
            "Epoch: 048/050 | Batch 000/600 | Cost: 0.0000\n",
            "Epoch: 048/050 | Batch 050/600 | Cost: 0.0000\n",
            "Epoch: 048/050 | Batch 100/600 | Cost: 0.0000\n",
            "Epoch: 048/050 | Batch 150/600 | Cost: 0.0000\n",
            "Epoch: 048/050 | Batch 200/600 | Cost: 0.0000\n",
            "Epoch: 048/050 | Batch 250/600 | Cost: 0.0000\n",
            "Epoch: 048/050 | Batch 300/600 | Cost: 0.0000\n",
            "Epoch: 048/050 | Batch 350/600 | Cost: 0.0000\n",
            "Epoch: 048/050 | Batch 400/600 | Cost: 0.0000\n",
            "Epoch: 048/050 | Batch 450/600 | Cost: 0.0000\n",
            "Epoch: 048/050 | Batch 500/600 | Cost: 0.0000\n",
            "Epoch: 048/050 | Batch 550/600 | Cost: 0.0000\n",
            "Epoch: 048/050 | Cost: 0.0096\n",
            "Epoch: 049/050 | Batch 000/600 | Cost: 0.0000\n",
            "Epoch: 049/050 | Batch 050/600 | Cost: 0.0000\n",
            "Epoch: 049/050 | Batch 100/600 | Cost: 0.0000\n",
            "Epoch: 049/050 | Batch 150/600 | Cost: 0.0000\n",
            "Epoch: 049/050 | Batch 200/600 | Cost: 0.0000\n",
            "Epoch: 049/050 | Batch 250/600 | Cost: 0.0000\n",
            "Epoch: 049/050 | Batch 300/600 | Cost: 0.0000\n",
            "Epoch: 049/050 | Batch 350/600 | Cost: 0.0000\n",
            "Epoch: 049/050 | Batch 400/600 | Cost: 0.0000\n",
            "Epoch: 049/050 | Batch 450/600 | Cost: 0.0000\n",
            "Epoch: 049/050 | Batch 500/600 | Cost: 0.0000\n",
            "Epoch: 049/050 | Batch 550/600 | Cost: 0.0000\n",
            "Epoch: 049/050 | Cost: 0.0095\n",
            "Epoch: 050/050 | Batch 000/600 | Cost: 0.0000\n",
            "Epoch: 050/050 | Batch 050/600 | Cost: 0.0000\n",
            "Epoch: 050/050 | Batch 100/600 | Cost: 0.0000\n",
            "Epoch: 050/050 | Batch 150/600 | Cost: 0.0000\n",
            "Epoch: 050/050 | Batch 200/600 | Cost: 0.0000\n",
            "Epoch: 050/050 | Batch 250/600 | Cost: 0.0000\n",
            "Epoch: 050/050 | Batch 300/600 | Cost: 0.0000\n",
            "Epoch: 050/050 | Batch 350/600 | Cost: 0.0000\n",
            "Epoch: 050/050 | Batch 400/600 | Cost: 0.0000\n",
            "Epoch: 050/050 | Batch 450/600 | Cost: 0.0000\n",
            "Epoch: 050/050 | Batch 500/600 | Cost: 0.0000\n",
            "Epoch: 050/050 | Batch 550/600 | Cost: 0.0000\n",
            "Epoch: 050/050 | Cost: 0.0095\n"
          ]
        }
      ]
    },
    {
      "cell_type": "markdown",
      "source": [
        "###Model Evaluation"
      ],
      "metadata": {
        "id": "5MjHYnU-vQAX"
      }
    },
    {
      "cell_type": "code",
      "source": [
        "plt.plot(range(len(miniBatchCost)),miniBatchCost)\n",
        "plt.ylabel(\"Mean Squared Error\")\n",
        "plt.xlabel(\"MiniBatch\")\n",
        "plt.show()\n",
        "\n",
        "plt.plot(range(len(epochCost)),epochCost)\n",
        "plt.ylabel(\"Mean Squared Error\")\n",
        "plt.xlabel(\"Epoch\")\n",
        "plt.show()"
      ],
      "metadata": {
        "colab": {
          "base_uri": "https://localhost:8080/",
          "height": 881
        },
        "id": "B1euvNc4qoj8",
        "outputId": "148cc3a6-7de8-4356-8e62-38427ed2817a"
      },
      "execution_count": 9,
      "outputs": [
        {
          "output_type": "display_data",
          "data": {
            "text/plain": [
              "<Figure size 640x480 with 1 Axes>"
            ],
            "image/png": "[encoded data removed]"
          },
          "metadata": {}
        },
        {
          "output_type": "display_data",
          "data": {
            "text/plain": [
              "<Figure size 640x480 with 1 Axes>"
            ],
            "image/png": "[encoded data removed]"
          },
          "metadata": {}
        }
      ]
    },
    {
      "cell_type": "code",
      "source": [
        "def computeAcc(net,dataLoader):\n",
        "  correctPred,numExamples = 0 , 0\n",
        "  with torch.no_grad():\n",
        "    for features,targets in dataLoader:\n",
        "      features = features.view(-1,28*28)\n",
        "      logits,probas = net.forward(features)\n",
        "      pred = torch.argmax(probas,1)\n",
        "      numExamples+=targets.size(0)\n",
        "      correctPred+=(pred==targets).sum()\n",
        "      # yOneHot = toOneHot(targets,model.numClasses)\n",
        "      # loss = torch.sum((yOneHot - probas)**2, dim=0)\n",
        "      # numExamples+=targets.size(0)\n",
        "      # currMSE+=loss\n",
        "    # currMSE = torch.mean(currMSE/numExamples, dim=0)\n",
        "    return correctPred.float()/numExamples * 100\n"
      ],
      "metadata": {
        "id": "hIW8WpzBrEHW"
      },
      "execution_count": 10,
      "outputs": []
    },
    {
      "cell_type": "code",
      "source": [
        "print(\"Training Accuracy :%.2f%%\" % (computeAcc(model,trainLoader)))\n",
        "print(\"Testing  Accuracy :%.2f%%\" % (computeAcc(model,testLoader )))\n"
      ],
      "metadata": {
        "colab": {
          "base_uri": "https://localhost:8080/"
        },
        "id": "wCLZDNcJsq2n",
        "outputId": "d879b805-beca-4765-d06b-f0cccbfb692f"
      },
      "execution_count": 11,
      "outputs": [
        {
          "output_type": "stream",
          "name": "stdout",
          "text": [
            "Training Accuracy :94.71%\n",
            "Testing  Accuracy :94.51%\n"
          ]
        }
      ]
    },
    {
      "cell_type": "markdown",
      "source": [
        "###Visual Evaluation"
      ],
      "metadata": {
        "id": "brwMVoxfvMOR"
      }
    },
    {
      "cell_type": "code",
      "source": [
        "# %matplot inline\n",
        "import matplotlib\n"
      ],
      "metadata": {
        "id": "DadN6siGtD2f"
      },
      "execution_count": 12,
      "outputs": []
    },
    {
      "cell_type": "code",
      "source": [
        "for features,targets in testLoader:\n",
        "  break\n",
        "\n",
        "fig,ax = plt.subplots(1,4)\n",
        "for i in range(4):\n",
        "  ax[i].imshow(features[i].view(28,28), cmap=matplotlib.cm.binary)\n",
        "\n",
        "plt.show()"
      ],
      "metadata": {
        "colab": {
          "base_uri": "https://localhost:8080/",
          "height": 172
        },
        "id": "GsRhVqn4tVMk",
        "outputId": "8c75eb05-744c-415a-9dd1-fed4090437bb"
      },
      "execution_count": 13,
      "outputs": [
        {
          "output_type": "display_data",
          "data": {
            "text/plain": [
              "<Figure size 640x480 with 4 Axes>"
            ],
            "image/png": "[encoded data removed]"
          },
          "metadata": {}
        }
      ]
    },
    {
      "cell_type": "code",
      "source": [
        "_, pred = model.forward(features[:4].view(-1,28*28))\n",
        "pred = torch.argmax(pred,dim=1)\n",
        "print(\"Predicted Labels\",pred)\n"
      ],
      "metadata": {
        "colab": {
          "base_uri": "https://localhost:8080/"
        },
        "id": "WFlUTTB4tqhJ",
        "outputId": "a4865d3d-8fda-4c63-a430-604cb912bfbb"
      },
      "execution_count": 15,
      "outputs": [
        {
          "output_type": "stream",
          "name": "stdout",
          "text": [
            "Predicted Labels tensor([4, 3, 0, 1])\n"
          ]
        }
      ]
    }
  ]
}