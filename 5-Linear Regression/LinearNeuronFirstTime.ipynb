{
  "nbformat": 4,
  "nbformat_minor": 0,
  "metadata": {
    "colab": {
      "provenance": []
    },
    "kernelspec": {
      "name": "python3",
      "display_name": "Python 3"
    },
    "language_info": {
      "name": "python"
    }
  },
  "cells": [
    {
      "cell_type": "code",
      "execution_count": null,
      "metadata": {
        "id": "EzsAI-AvJ9YZ"
      },
      "outputs": [],
      "source": [
        "import torch\n",
        "import pandas as pd\n",
        "import matplotlib.pyplot as plt\n"
      ]
    },
    {
      "cell_type": "code",
      "source": [
        "df = pd.read_csv('./dataset/linreg-data.csv',index_col=0)\n",
        "df.info()"
      ],
      "metadata": {
        "colab": {
          "base_uri": "https://localhost:8080/"
        },
        "id": "z0jFLtakL_Lq",
        "outputId": "ca73b949-8c7f-4105-f632-b5ce2e50a5dc"
      },
      "execution_count": null,
      "outputs": [
        {
          "output_type": "stream",
          "name": "stdout",
          "text": [
            "<class 'pandas.core.frame.DataFrame'>\n",
            "Int64Index: 1000 entries, 0 to 999\n",
            "Data columns (total 3 columns):\n",
            " #   Column  Non-Null Count  Dtype  \n",
            "---  ------  --------------  -----  \n",
            " 0   x1      1000 non-null   float64\n",
            " 1   x2      1000 non-null   float64\n",
            " 2   y       1000 non-null   float64\n",
            "dtypes: float64(3)\n",
            "memory usage: 31.2 KB\n"
          ]
        }
      ]
    },
    {
      "cell_type": "code",
      "source": [
        "df.head()"
      ],
      "metadata": {
        "colab": {
          "base_uri": "https://localhost:8080/",
          "height": 206
        },
        "id": "sdPUTKkoMVZM",
        "outputId": "484a11fb-2546-4c7b-850f-68cf5cd0f0e0"
      },
      "execution_count": null,
      "outputs": [
        {
          "output_type": "execute_result",
          "data": {
            "text/plain": [
              "         x1        x2          y\n",
              "0 -2.201441 -0.468864 -30.355617\n",
              "1 -0.291041  0.777277  25.560334\n",
              "2 -0.327755  0.040071  32.797526\n",
              "3 -0.075650  1.821915  72.734577\n",
              "4 -0.862493 -0.467493 -48.072356"
            ],
            "text/html": [
              "\n",
              "  <div id=\"df-6d52c652-38fe-4251-b0ca-bd67173784fc\" class=\"colab-df-container\">\n",
              "    <div>\n",
              "<style scoped>\n",
              "    .dataframe tbody tr th:only-of-type {\n",
              "        vertical-align: middle;\n",
              "    }\n",
              "\n",
              "    .dataframe tbody tr th {\n",
              "        vertical-align: top;\n",
              "    }\n",
              "\n",
              "    .dataframe thead th {\n",
              "        text-align: right;\n",
              "    }\n",
              "</style>\n",
              "<table border=\"1\" class=\"dataframe\">\n",
              "  <thead>\n",
              "    <tr style=\"text-align: right;\">\n",
              "      <th></th>\n",
              "      <th>x1</th>\n",
              "      <th>x2</th>\n",
              "      <th>y</th>\n",
              "    </tr>\n",
              "  </thead>\n",
              "  <tbody>\n",
              "    <tr>\n",
              "      <th>0</th>\n",
              "      <td>-2.201441</td>\n",
              "      <td>-0.468864</td>\n",
              "      <td>-30.355617</td>\n",
              "    </tr>\n",
              "    <tr>\n",
              "      <th>1</th>\n",
              "      <td>-0.291041</td>\n",
              "      <td>0.777277</td>\n",
              "      <td>25.560334</td>\n",
              "    </tr>\n",
              "    <tr>\n",
              "      <th>2</th>\n",
              "      <td>-0.327755</td>\n",
              "      <td>0.040071</td>\n",
              "      <td>32.797526</td>\n",
              "    </tr>\n",
              "    <tr>\n",
              "      <th>3</th>\n",
              "      <td>-0.075650</td>\n",
              "      <td>1.821915</td>\n",
              "      <td>72.734577</td>\n",
              "    </tr>\n",
              "    <tr>\n",
              "      <th>4</th>\n",
              "      <td>-0.862493</td>\n",
              "      <td>-0.467493</td>\n",
              "      <td>-48.072356</td>\n",
              "    </tr>\n",
              "  </tbody>\n",
              "</table>\n",
              "</div>\n",
              "    <div class=\"colab-df-buttons\">\n",
              "\n",
              "  <div class=\"colab-df-container\">\n",
              "    <button class=\"colab-df-convert\" onclick=\"convertToInteractive('df-6d52c652-38fe-4251-b0ca-bd67173784fc')\"\n",
              "            title=\"Convert this dataframe to an interactive table.\"\n",
              "            style=\"display:none;\">\n",
              "\n",
              "  <svg xmlns=\"http://www.w3.org/2000/svg\" height=\"24px\" viewBox=\"0 -960 960 960\">\n",
              "    <path d=\"M120-120v-720h720v720H120Zm60-500h600v-160H180v160Zm220 220h160v-160H400v160Zm0 220h160v-160H400v160ZM180-400h160v-160H180v160Zm440 0h160v-160H620v160ZM180-180h160v-160H180v160Zm440 0h160v-160H620v160Z\"/>\n",
              "  </svg>\n",
              "    </button>\n",
              "\n",
              "  <style>\n",
              "    .colab-df-container {\n",
              "      display:flex;\n",
              "      gap: 12px;\n",
              "    }\n",
              "\n",
              "    .colab-df-convert {\n",
              "      background-color: #E8F0FE;\n",
              "      border: none;\n",
              "      border-radius: 50%;\n",
              "      cursor: pointer;\n",
              "      display: none;\n",
              "      fill: #1967D2;\n",
              "      height: 32px;\n",
              "      padding: 0 0 0 0;\n",
              "      width: 32px;\n",
              "    }\n",
              "\n",
              "    .colab-df-convert:hover {\n",
              "      background-color: #E2EBFA;\n",
              "      box-shadow: 0px 1px 2px rgba(60, 64, 67, 0.3), 0px 1px 3px 1px rgba(60, 64, 67, 0.15);\n",
              "      fill: #174EA6;\n",
              "    }\n",
              "\n",
              "    .colab-df-buttons div {\n",
              "      margin-bottom: 4px;\n",
              "    }\n",
              "\n",
              "    [theme=dark] .colab-df-convert {\n",
              "      background-color: #3B4455;\n",
              "      fill: #D2E3FC;\n",
              "    }\n",
              "\n",
              "    [theme=dark] .colab-df-convert:hover {\n",
              "      background-color: #434B5C;\n",
              "      box-shadow: 0px 1px 3px 1px rgba(0, 0, 0, 0.15);\n",
              "      filter: drop-shadow(0px 1px 2px rgba(0, 0, 0, 0.3));\n",
              "      fill: #FFFFFF;\n",
              "    }\n",
              "  </style>\n",
              "\n",
              "    <script>\n",
              "      const buttonEl =\n",
              "        document.querySelector('#df-6d52c652-38fe-4251-b0ca-bd67173784fc button.colab-df-convert');\n",
              "      buttonEl.style.display =\n",
              "        google.colab.kernel.accessAllowed ? 'block' : 'none';\n",
              "\n",
              "      async function convertToInteractive(key) {\n",
              "        const element = document.querySelector('#df-6d52c652-38fe-4251-b0ca-bd67173784fc');\n",
              "        const dataTable =\n",
              "          await google.colab.kernel.invokeFunction('convertToInteractive',\n",
              "                                                    [key], {});\n",
              "        if (!dataTable) return;\n",
              "\n",
              "        const docLinkHtml = 'Like what you see? Visit the ' +\n",
              "          '<a target=\"_blank\" href=https://colab.research.google.com/notebooks/data_table.ipynb>data table notebook</a>'\n",
              "          + ' to learn more about interactive tables.';\n",
              "        element.innerHTML = '';\n",
              "        dataTable['output_type'] = 'display_data';\n",
              "        await google.colab.output.renderOutput(dataTable, element);\n",
              "        const docLink = document.createElement('div');\n",
              "        docLink.innerHTML = docLinkHtml;\n",
              "        element.appendChild(docLink);\n",
              "      }\n",
              "    </script>\n",
              "  </div>\n",
              "\n",
              "\n",
              "<div id=\"df-06a24e57-4b5d-4a9b-9b0d-c85b2f1e8844\">\n",
              "  <button class=\"colab-df-quickchart\" onclick=\"quickchart('df-06a24e57-4b5d-4a9b-9b0d-c85b2f1e8844')\"\n",
              "            title=\"Suggest charts\"\n",
              "            style=\"display:none;\">\n",
              "\n",
              "<svg xmlns=\"http://www.w3.org/2000/svg\" height=\"24px\"viewBox=\"0 0 24 24\"\n",
              "     width=\"24px\">\n",
              "    <g>\n",
              "        <path d=\"M19 3H5c-1.1 0-2 .9-2 2v14c0 1.1.9 2 2 2h14c1.1 0 2-.9 2-2V5c0-1.1-.9-2-2-2zM9 17H7v-7h2v7zm4 0h-2V7h2v10zm4 0h-2v-4h2v4z\"/>\n",
              "    </g>\n",
              "</svg>\n",
              "  </button>\n",
              "\n",
              "<style>\n",
              "  .colab-df-quickchart {\n",
              "      --bg-color: #E8F0FE;\n",
              "      --fill-color: #1967D2;\n",
              "      --hover-bg-color: #E2EBFA;\n",
              "      --hover-fill-color: #174EA6;\n",
              "      --disabled-fill-color: #AAA;\n",
              "      --disabled-bg-color: #DDD;\n",
              "  }\n",
              "\n",
              "  [theme=dark] .colab-df-quickchart {\n",
              "      --bg-color: #3B4455;\n",
              "      --fill-color: #D2E3FC;\n",
              "      --hover-bg-color: #434B5C;\n",
              "      --hover-fill-color: #FFFFFF;\n",
              "      --disabled-bg-color: #3B4455;\n",
              "      --disabled-fill-color: #666;\n",
              "  }\n",
              "\n",
              "  .colab-df-quickchart {\n",
              "    background-color: var(--bg-color);\n",
              "    border: none;\n",
              "    border-radius: 50%;\n",
              "    cursor: pointer;\n",
              "    display: none;\n",
              "    fill: var(--fill-color);\n",
              "    height: 32px;\n",
              "    padding: 0;\n",
              "    width: 32px;\n",
              "  }\n",
              "\n",
              "  .colab-df-quickchart:hover {\n",
              "    background-color: var(--hover-bg-color);\n",
              "    box-shadow: 0 1px 2px rgba(60, 64, 67, 0.3), 0 1px 3px 1px rgba(60, 64, 67, 0.15);\n",
              "    fill: var(--button-hover-fill-color);\n",
              "  }\n",
              "\n",
              "  .colab-df-quickchart-complete:disabled,\n",
              "  .colab-df-quickchart-complete:disabled:hover {\n",
              "    background-color: var(--disabled-bg-color);\n",
              "    fill: var(--disabled-fill-color);\n",
              "    box-shadow: none;\n",
              "  }\n",
              "\n",
              "  .colab-df-spinner {\n",
              "    border: 2px solid var(--fill-color);\n",
              "    border-color: transparent;\n",
              "    border-bottom-color: var(--fill-color);\n",
              "    animation:\n",
              "      spin 1s steps(1) infinite;\n",
              "  }\n",
              "\n",
              "  @keyframes spin {\n",
              "    0% {\n",
              "      border-color: transparent;\n",
              "      border-bottom-color: var(--fill-color);\n",
              "      border-left-color: var(--fill-color);\n",
              "    }\n",
              "    20% {\n",
              "      border-color: transparent;\n",
              "      border-left-color: var(--fill-color);\n",
              "      border-top-color: var(--fill-color);\n",
              "    }\n",
              "    30% {\n",
              "      border-color: transparent;\n",
              "      border-left-color: var(--fill-color);\n",
              "      border-top-color: var(--fill-color);\n",
              "      border-right-color: var(--fill-color);\n",
              "    }\n",
              "    40% {\n",
              "      border-color: transparent;\n",
              "      border-right-color: var(--fill-color);\n",
              "      border-top-color: var(--fill-color);\n",
              "    }\n",
              "    60% {\n",
              "      border-color: transparent;\n",
              "      border-right-color: var(--fill-color);\n",
              "    }\n",
              "    80% {\n",
              "      border-color: transparent;\n",
              "      border-right-color: var(--fill-color);\n",
              "      border-bottom-color: var(--fill-color);\n",
              "    }\n",
              "    90% {\n",
              "      border-color: transparent;\n",
              "      border-bottom-color: var(--fill-color);\n",
              "    }\n",
              "  }\n",
              "</style>\n",
              "\n",
              "  <script>\n",
              "    async function quickchart(key) {\n",
              "      const quickchartButtonEl =\n",
              "        document.querySelector('#' + key + ' button');\n",
              "      quickchartButtonEl.disabled = true;  // To prevent multiple clicks.\n",
              "      quickchartButtonEl.classList.add('colab-df-spinner');\n",
              "      try {\n",
              "        const charts = await google.colab.kernel.invokeFunction(\n",
              "            'suggestCharts', [key], {});\n",
              "      } catch (error) {\n",
              "        console.error('Error during call to suggestCharts:', error);\n",
              "      }\n",
              "      quickchartButtonEl.classList.remove('colab-df-spinner');\n",
              "      quickchartButtonEl.classList.add('colab-df-quickchart-complete');\n",
              "    }\n",
              "    (() => {\n",
              "      let quickchartButtonEl =\n",
              "        document.querySelector('#df-06a24e57-4b5d-4a9b-9b0d-c85b2f1e8844 button');\n",
              "      quickchartButtonEl.style.display =\n",
              "        google.colab.kernel.accessAllowed ? 'block' : 'none';\n",
              "    })();\n",
              "  </script>\n",
              "</div>\n",
              "\n",
              "    </div>\n",
              "  </div>\n"
            ]
          },
          "metadata": {},
          "execution_count": 5
        }
      ]
    },
    {
      "cell_type": "code",
      "source": [
        "df.tail()"
      ],
      "metadata": {
        "colab": {
          "base_uri": "https://localhost:8080/",
          "height": 206
        },
        "id": "ShHnaX75MfT5",
        "outputId": "5c9486bf-1c94-49ac-e737-d2246d684eb3"
      },
      "execution_count": null,
      "outputs": [
        {
          "output_type": "execute_result",
          "data": {
            "text/plain": [
              "           x1        x2          y\n",
              "995 -0.942094 -0.835856 -22.324428\n",
              "996  1.222445 -0.403177 -52.121493\n",
              "997 -0.112466 -1.688230 -57.043196\n",
              "998 -0.403459 -0.412272 -27.701833\n",
              "999  0.021351 -0.499017  -9.804714"
            ],
            "text/html": [
              "\n",
              "  <div id=\"df-ec58b9f4-ecef-4ac9-9802-8334bb82fe34\" class=\"colab-df-container\">\n",
              "    <div>\n",
              "<style scoped>\n",
              "    .dataframe tbody tr th:only-of-type {\n",
              "        vertical-align: middle;\n",
              "    }\n",
              "\n",
              "    .dataframe tbody tr th {\n",
              "        vertical-align: top;\n",
              "    }\n",
              "\n",
              "    .dataframe thead th {\n",
              "        text-align: right;\n",
              "    }\n",
              "</style>\n",
              "<table border=\"1\" class=\"dataframe\">\n",
              "  <thead>\n",
              "    <tr style=\"text-align: right;\">\n",
              "      <th></th>\n",
              "      <th>x1</th>\n",
              "      <th>x2</th>\n",
              "      <th>y</th>\n",
              "    </tr>\n",
              "  </thead>\n",
              "  <tbody>\n",
              "    <tr>\n",
              "      <th>995</th>\n",
              "      <td>-0.942094</td>\n",
              "      <td>-0.835856</td>\n",
              "      <td>-22.324428</td>\n",
              "    </tr>\n",
              "    <tr>\n",
              "      <th>996</th>\n",
              "      <td>1.222445</td>\n",
              "      <td>-0.403177</td>\n",
              "      <td>-52.121493</td>\n",
              "    </tr>\n",
              "    <tr>\n",
              "      <th>997</th>\n",
              "      <td>-0.112466</td>\n",
              "      <td>-1.688230</td>\n",
              "      <td>-57.043196</td>\n",
              "    </tr>\n",
              "    <tr>\n",
              "      <th>998</th>\n",
              "      <td>-0.403459</td>\n",
              "      <td>-0.412272</td>\n",
              "      <td>-27.701833</td>\n",
              "    </tr>\n",
              "    <tr>\n",
              "      <th>999</th>\n",
              "      <td>0.021351</td>\n",
              "      <td>-0.499017</td>\n",
              "      <td>-9.804714</td>\n",
              "    </tr>\n",
              "  </tbody>\n",
              "</table>\n",
              "</div>\n",
              "    <div class=\"colab-df-buttons\">\n",
              "\n",
              "  <div class=\"colab-df-container\">\n",
              "    <button class=\"colab-df-convert\" onclick=\"convertToInteractive('df-ec58b9f4-ecef-4ac9-9802-8334bb82fe34')\"\n",
              "            title=\"Convert this dataframe to an interactive table.\"\n",
              "            style=\"display:none;\">\n",
              "\n",
              "  <svg xmlns=\"http://www.w3.org/2000/svg\" height=\"24px\" viewBox=\"0 -960 960 960\">\n",
              "    <path d=\"M120-120v-720h720v720H120Zm60-500h600v-160H180v160Zm220 220h160v-160H400v160Zm0 220h160v-160H400v160ZM180-400h160v-160H180v160Zm440 0h160v-160H620v160ZM180-180h160v-160H180v160Zm440 0h160v-160H620v160Z\"/>\n",
              "  </svg>\n",
              "    </button>\n",
              "\n",
              "  <style>\n",
              "    .colab-df-container {\n",
              "      display:flex;\n",
              "      gap: 12px;\n",
              "    }\n",
              "\n",
              "    .colab-df-convert {\n",
              "      background-color: #E8F0FE;\n",
              "      border: none;\n",
              "      border-radius: 50%;\n",
              "      cursor: pointer;\n",
              "      display: none;\n",
              "      fill: #1967D2;\n",
              "      height: 32px;\n",
              "      padding: 0 0 0 0;\n",
              "      width: 32px;\n",
              "    }\n",
              "\n",
              "    .colab-df-convert:hover {\n",
              "      background-color: #E2EBFA;\n",
              "      box-shadow: 0px 1px 2px rgba(60, 64, 67, 0.3), 0px 1px 3px 1px rgba(60, 64, 67, 0.15);\n",
              "      fill: #174EA6;\n",
              "    }\n",
              "\n",
              "    .colab-df-buttons div {\n",
              "      margin-bottom: 4px;\n",
              "    }\n",
              "\n",
              "    [theme=dark] .colab-df-convert {\n",
              "      background-color: #3B4455;\n",
              "      fill: #D2E3FC;\n",
              "    }\n",
              "\n",
              "    [theme=dark] .colab-df-convert:hover {\n",
              "      background-color: #434B5C;\n",
              "      box-shadow: 0px 1px 3px 1px rgba(0, 0, 0, 0.15);\n",
              "      filter: drop-shadow(0px 1px 2px rgba(0, 0, 0, 0.3));\n",
              "      fill: #FFFFFF;\n",
              "    }\n",
              "  </style>\n",
              "\n",
              "    <script>\n",
              "      const buttonEl =\n",
              "        document.querySelector('#df-ec58b9f4-ecef-4ac9-9802-8334bb82fe34 button.colab-df-convert');\n",
              "      buttonEl.style.display =\n",
              "        google.colab.kernel.accessAllowed ? 'block' : 'none';\n",
              "\n",
              "      async function convertToInteractive(key) {\n",
              "        const element = document.querySelector('#df-ec58b9f4-ecef-4ac9-9802-8334bb82fe34');\n",
              "        const dataTable =\n",
              "          await google.colab.kernel.invokeFunction('convertToInteractive',\n",
              "                                                    [key], {});\n",
              "        if (!dataTable) return;\n",
              "\n",
              "        const docLinkHtml = 'Like what you see? Visit the ' +\n",
              "          '<a target=\"_blank\" href=https://colab.research.google.com/notebooks/data_table.ipynb>data table notebook</a>'\n",
              "          + ' to learn more about interactive tables.';\n",
              "        element.innerHTML = '';\n",
              "        dataTable['output_type'] = 'display_data';\n",
              "        await google.colab.output.renderOutput(dataTable, element);\n",
              "        const docLink = document.createElement('div');\n",
              "        docLink.innerHTML = docLinkHtml;\n",
              "        element.appendChild(docLink);\n",
              "      }\n",
              "    </script>\n",
              "  </div>\n",
              "\n",
              "\n",
              "<div id=\"df-01322809-77d7-496d-b0e6-f9d08df039b1\">\n",
              "  <button class=\"colab-df-quickchart\" onclick=\"quickchart('df-01322809-77d7-496d-b0e6-f9d08df039b1')\"\n",
              "            title=\"Suggest charts\"\n",
              "            style=\"display:none;\">\n",
              "\n",
              "<svg xmlns=\"http://www.w3.org/2000/svg\" height=\"24px\"viewBox=\"0 0 24 24\"\n",
              "     width=\"24px\">\n",
              "    <g>\n",
              "        <path d=\"M19 3H5c-1.1 0-2 .9-2 2v14c0 1.1.9 2 2 2h14c1.1 0 2-.9 2-2V5c0-1.1-.9-2-2-2zM9 17H7v-7h2v7zm4 0h-2V7h2v10zm4 0h-2v-4h2v4z\"/>\n",
              "    </g>\n",
              "</svg>\n",
              "  </button>\n",
              "\n",
              "<style>\n",
              "  .colab-df-quickchart {\n",
              "      --bg-color: #E8F0FE;\n",
              "      --fill-color: #1967D2;\n",
              "      --hover-bg-color: #E2EBFA;\n",
              "      --hover-fill-color: #174EA6;\n",
              "      --disabled-fill-color: #AAA;\n",
              "      --disabled-bg-color: #DDD;\n",
              "  }\n",
              "\n",
              "  [theme=dark] .colab-df-quickchart {\n",
              "      --bg-color: #3B4455;\n",
              "      --fill-color: #D2E3FC;\n",
              "      --hover-bg-color: #434B5C;\n",
              "      --hover-fill-color: #FFFFFF;\n",
              "      --disabled-bg-color: #3B4455;\n",
              "      --disabled-fill-color: #666;\n",
              "  }\n",
              "\n",
              "  .colab-df-quickchart {\n",
              "    background-color: var(--bg-color);\n",
              "    border: none;\n",
              "    border-radius: 50%;\n",
              "    cursor: pointer;\n",
              "    display: none;\n",
              "    fill: var(--fill-color);\n",
              "    height: 32px;\n",
              "    padding: 0;\n",
              "    width: 32px;\n",
              "  }\n",
              "\n",
              "  .colab-df-quickchart:hover {\n",
              "    background-color: var(--hover-bg-color);\n",
              "    box-shadow: 0 1px 2px rgba(60, 64, 67, 0.3), 0 1px 3px 1px rgba(60, 64, 67, 0.15);\n",
              "    fill: var(--button-hover-fill-color);\n",
              "  }\n",
              "\n",
              "  .colab-df-quickchart-complete:disabled,\n",
              "  .colab-df-quickchart-complete:disabled:hover {\n",
              "    background-color: var(--disabled-bg-color);\n",
              "    fill: var(--disabled-fill-color);\n",
              "    box-shadow: none;\n",
              "  }\n",
              "\n",
              "  .colab-df-spinner {\n",
              "    border: 2px solid var(--fill-color);\n",
              "    border-color: transparent;\n",
              "    border-bottom-color: var(--fill-color);\n",
              "    animation:\n",
              "      spin 1s steps(1) infinite;\n",
              "  }\n",
              "\n",
              "  @keyframes spin {\n",
              "    0% {\n",
              "      border-color: transparent;\n",
              "      border-bottom-color: var(--fill-color);\n",
              "      border-left-color: var(--fill-color);\n",
              "    }\n",
              "    20% {\n",
              "      border-color: transparent;\n",
              "      border-left-color: var(--fill-color);\n",
              "      border-top-color: var(--fill-color);\n",
              "    }\n",
              "    30% {\n",
              "      border-color: transparent;\n",
              "      border-left-color: var(--fill-color);\n",
              "      border-top-color: var(--fill-color);\n",
              "      border-right-color: var(--fill-color);\n",
              "    }\n",
              "    40% {\n",
              "      border-color: transparent;\n",
              "      border-right-color: var(--fill-color);\n",
              "      border-top-color: var(--fill-color);\n",
              "    }\n",
              "    60% {\n",
              "      border-color: transparent;\n",
              "      border-right-color: var(--fill-color);\n",
              "    }\n",
              "    80% {\n",
              "      border-color: transparent;\n",
              "      border-right-color: var(--fill-color);\n",
              "      border-bottom-color: var(--fill-color);\n",
              "    }\n",
              "    90% {\n",
              "      border-color: transparent;\n",
              "      border-bottom-color: var(--fill-color);\n",
              "    }\n",
              "  }\n",
              "</style>\n",
              "\n",
              "  <script>\n",
              "    async function quickchart(key) {\n",
              "      const quickchartButtonEl =\n",
              "        document.querySelector('#' + key + ' button');\n",
              "      quickchartButtonEl.disabled = true;  // To prevent multiple clicks.\n",
              "      quickchartButtonEl.classList.add('colab-df-spinner');\n",
              "      try {\n",
              "        const charts = await google.colab.kernel.invokeFunction(\n",
              "            'suggestCharts', [key], {});\n",
              "      } catch (error) {\n",
              "        console.error('Error during call to suggestCharts:', error);\n",
              "      }\n",
              "      quickchartButtonEl.classList.remove('colab-df-spinner');\n",
              "      quickchartButtonEl.classList.add('colab-df-quickchart-complete');\n",
              "    }\n",
              "    (() => {\n",
              "      let quickchartButtonEl =\n",
              "        document.querySelector('#df-01322809-77d7-496d-b0e6-f9d08df039b1 button');\n",
              "      quickchartButtonEl.style.display =\n",
              "        google.colab.kernel.accessAllowed ? 'block' : 'none';\n",
              "    })();\n",
              "  </script>\n",
              "</div>\n",
              "\n",
              "    </div>\n",
              "  </div>\n"
            ]
          },
          "metadata": {},
          "execution_count": 6
        }
      ]
    },
    {
      "cell_type": "code",
      "source": [
        "X = torch.Tensor(df[['x1','x2']].values)\n",
        "y = torch.Tensor(df['y'].values)\n",
        "\n",
        "torch.manual_seed(42)"
      ],
      "metadata": {
        "colab": {
          "base_uri": "https://localhost:8080/"
        },
        "id": "mgrsS-n_MhXw",
        "outputId": "9c424332-041d-43e8-c1e9-b24d6a0b3a3b"
      },
      "execution_count": null,
      "outputs": [
        {
          "output_type": "execute_result",
          "data": {
            "text/plain": [
              "<torch._C.Generator at 0x79b458add590>"
            ]
          },
          "metadata": {},
          "execution_count": 7
        }
      ]
    },
    {
      "cell_type": "code",
      "source": [
        "shuffle_idx = torch.randperm(y.size(0))"
      ],
      "metadata": {
        "id": "DmuVMYvfM2x4"
      },
      "execution_count": null,
      "outputs": []
    },
    {
      "cell_type": "code",
      "source": [
        "shuffle_idx.dtype"
      ],
      "metadata": {
        "colab": {
          "base_uri": "https://localhost:8080/"
        },
        "id": "YuRkmRC5OMiP",
        "outputId": "67ff23ed-8f26-4c25-d726-599505852494"
      },
      "execution_count": null,
      "outputs": [
        {
          "output_type": "execute_result",
          "data": {
            "text/plain": [
              "torch.int64"
            ]
          },
          "metadata": {},
          "execution_count": 9
        }
      ]
    },
    {
      "cell_type": "code",
      "source": [
        "eightyPercent = int(y.size(0)*0.8)\n",
        "X,y = X[shuffle_idx],y[shuffle_idx]"
      ],
      "metadata": {
        "id": "rytdhj-AOuOs"
      },
      "execution_count": null,
      "outputs": []
    },
    {
      "cell_type": "code",
      "source": [
        "X_Train,yTrain = X[:eightyPercent],y[:eightyPercent]\n",
        "X_Test,yTest = X[eightyPercent:],y[eightyPercent:]"
      ],
      "metadata": {
        "id": "J9WQEGJOO76k"
      },
      "execution_count": null,
      "outputs": []
    },
    {
      "cell_type": "code",
      "source": [
        "Mean = X_Train.mean(dim=0)\n",
        "std = X_Train.std(dim=0)\n",
        "X_Train = (X_Train-Mean)/std\n",
        "X_Test = (X_Test-Mean)/std"
      ],
      "metadata": {
        "id": "8yWeBM1kSCc4"
      },
      "execution_count": null,
      "outputs": []
    },
    {
      "cell_type": "code",
      "source": [
        "X_Train.std(dim=0)"
      ],
      "metadata": {
        "colab": {
          "base_uri": "https://localhost:8080/"
        },
        "id": "GbUwHie4TfbJ",
        "outputId": "af2ea5c4-c320-4e82-e9dc-eee547289cdb"
      },
      "execution_count": null,
      "outputs": [
        {
          "output_type": "execute_result",
          "data": {
            "text/plain": [
              "tensor([1., 1.])"
            ]
          },
          "metadata": {},
          "execution_count": 13
        }
      ]
    },
    {
      "cell_type": "code",
      "source": [
        "X_Train.shape"
      ],
      "metadata": {
        "colab": {
          "base_uri": "https://localhost:8080/"
        },
        "id": "aQ_qOHIQkXFN",
        "outputId": "bf279204-d6d5-4ef5-f803-0b2355f58287"
      },
      "execution_count": null,
      "outputs": [
        {
          "output_type": "execute_result",
          "data": {
            "text/plain": [
              "torch.Size([800, 2])"
            ]
          },
          "metadata": {},
          "execution_count": 14
        }
      ]
    },
    {
      "cell_type": "code",
      "source": [
        "class LinearReg :\n",
        "\n",
        "  def __init__(self,numFeatures):\n",
        "    self.numFeatures = numFeatures\n",
        "    self.weights = torch.zeros(numFeatures,1,dtype=torch.float)\n",
        "    self.bias = torch.zeros(1,dtype=torch.float)\n",
        "\n",
        "  def forward(self,X):\n",
        "    predictions = torch.add(torch.mm(X,self.weights),self.bias)\n",
        "    return predictions.view(-1)\n",
        "\n",
        "  def backward(self,y,yhat,X):\n",
        "    # print(\"yhat\",yhat.shape)\n",
        "    # print(\"y\",y.shape)\n",
        "    # y = y.view(y.size(0),1)\n",
        "    diff = 2*(yhat-y)\n",
        "    print(\"yhat\",yhat.shape)\n",
        "    print(\"y\",y.shape)\n",
        "    weightdiff = torch.matmul(X.t(),diff.view(-1,1))/y.size(0)\n",
        "    diff = torch.sum(1. * diff)/y.size(0)\n",
        "    print(\"diff\",weightdiff.shape)\n",
        "    print(\"wdiff\",diff.shape)\n",
        "    return weightdiff,diff\n",
        "\n",
        "\n",
        "  def loss(self,yhat,y):\n",
        "    return torch.mean((yhat-y)**2)\n",
        "\n",
        "  def train(self,X,y,epoch):\n",
        "    cost = []\n",
        "    for i in range(epoch):\n",
        "      pred = self.forward(X)\n",
        "      L = self.loss(y,pred)\n",
        "      cost.append(L)\n",
        "\n",
        "      weightback,biasback = self.backward(y,pred,X)\n",
        "      self.weights -=0.1*weightback\n",
        "      self.bias -=0.1*biasback\n",
        "    return cost"
      ],
      "metadata": {
        "id": "HgT2PNjCPMZp"
      },
      "execution_count": null,
      "outputs": []
    },
    {
      "cell_type": "code",
      "source": [
        "LModel = LinearReg(2)"
      ],
      "metadata": {
        "id": "vkNQ5uCIlx_I"
      },
      "execution_count": null,
      "outputs": []
    },
    {
      "cell_type": "code",
      "source": [
        "LossT = LModel.train(X_Train,yTrain,20)"
      ],
      "metadata": {
        "colab": {
          "base_uri": "https://localhost:8080/"
        },
        "id": "TpOkU7Xtl2hB",
        "outputId": "168cca89-8c0b-49c7-8417-4fb2984c7501"
      },
      "execution_count": null,
      "outputs": [
        {
          "output_type": "stream",
          "name": "stdout",
          "text": [
            "yhat torch.Size([800])\n",
            "y torch.Size([800])\n",
            "diff torch.Size([2, 1])\n",
            "wdiff torch.Size([])\n",
            "yhat torch.Size([800])\n",
            "y torch.Size([800])\n",
            "diff torch.Size([2, 1])\n",
            "wdiff torch.Size([])\n",
            "yhat torch.Size([800])\n",
            "y torch.Size([800])\n",
            "diff torch.Size([2, 1])\n",
            "wdiff torch.Size([])\n",
            "yhat torch.Size([800])\n",
            "y torch.Size([800])\n",
            "diff torch.Size([2, 1])\n",
            "wdiff torch.Size([])\n",
            "yhat torch.Size([800])\n",
            "y torch.Size([800])\n",
            "diff torch.Size([2, 1])\n",
            "wdiff torch.Size([])\n",
            "yhat torch.Size([800])\n",
            "y torch.Size([800])\n",
            "diff torch.Size([2, 1])\n",
            "wdiff torch.Size([])\n",
            "yhat torch.Size([800])\n",
            "y torch.Size([800])\n",
            "diff torch.Size([2, 1])\n",
            "wdiff torch.Size([])\n",
            "yhat torch.Size([800])\n",
            "y torch.Size([800])\n",
            "diff torch.Size([2, 1])\n",
            "wdiff torch.Size([])\n",
            "yhat torch.Size([800])\n",
            "y torch.Size([800])\n",
            "diff torch.Size([2, 1])\n",
            "wdiff torch.Size([])\n",
            "yhat torch.Size([800])\n",
            "y torch.Size([800])\n",
            "diff torch.Size([2, 1])\n",
            "wdiff torch.Size([])\n",
            "yhat torch.Size([800])\n",
            "y torch.Size([800])\n",
            "diff torch.Size([2, 1])\n",
            "wdiff torch.Size([])\n",
            "yhat torch.Size([800])\n",
            "y torch.Size([800])\n",
            "diff torch.Size([2, 1])\n",
            "wdiff torch.Size([])\n",
            "yhat torch.Size([800])\n",
            "y torch.Size([800])\n",
            "diff torch.Size([2, 1])\n",
            "wdiff torch.Size([])\n",
            "yhat torch.Size([800])\n",
            "y torch.Size([800])\n",
            "diff torch.Size([2, 1])\n",
            "wdiff torch.Size([])\n",
            "yhat torch.Size([800])\n",
            "y torch.Size([800])\n",
            "diff torch.Size([2, 1])\n",
            "wdiff torch.Size([])\n",
            "yhat torch.Size([800])\n",
            "y torch.Size([800])\n",
            "diff torch.Size([2, 1])\n",
            "wdiff torch.Size([])\n",
            "yhat torch.Size([800])\n",
            "y torch.Size([800])\n",
            "diff torch.Size([2, 1])\n",
            "wdiff torch.Size([])\n",
            "yhat torch.Size([800])\n",
            "y torch.Size([800])\n",
            "diff torch.Size([2, 1])\n",
            "wdiff torch.Size([])\n",
            "yhat torch.Size([800])\n",
            "y torch.Size([800])\n",
            "diff torch.Size([2, 1])\n",
            "wdiff torch.Size([])\n",
            "yhat torch.Size([800])\n",
            "y torch.Size([800])\n",
            "diff torch.Size([2, 1])\n",
            "wdiff torch.Size([])\n"
          ]
        }
      ]
    },
    {
      "cell_type": "code",
      "source": [
        "LossT"
      ],
      "metadata": {
        "colab": {
          "base_uri": "https://localhost:8080/"
        },
        "id": "8bX9hijKoOzo",
        "outputId": "3a889705-c075-4df5-e1bf-38eaa64afb3b"
      },
      "execution_count": null,
      "outputs": [
        {
          "output_type": "execute_result",
          "data": {
            "text/plain": [
              "[tensor(1947.5277),\n",
              " tensor(1379.8324),\n",
              " tensor(1016.4835),\n",
              " tensor(783.9064),\n",
              " tensor(635.0234),\n",
              " tensor(539.7089),\n",
              " tensor(478.6841),\n",
              " tensor(439.6098),\n",
              " tensor(414.5884),\n",
              " tensor(398.5646),\n",
              " tensor(388.3021),\n",
              " tensor(381.7289),\n",
              " tensor(377.5183),\n",
              " tensor(374.8210),\n",
              " tensor(373.0929),\n",
              " tensor(371.9857),\n",
              " tensor(371.2762),\n",
              " tensor(370.8216),\n",
              " tensor(370.5302),\n",
              " tensor(370.3435)]"
            ]
          },
          "metadata": {},
          "execution_count": 18
        }
      ]
    },
    {
      "cell_type": "code",
      "source": [
        "import numpy as np\n",
        "plt.plot(np.arange(20),LossT)\n",
        "plt.ylabel('Mean Squared Error')\n",
        "plt.xlabel('Epoch')\n",
        "plt.show()"
      ],
      "metadata": {
        "colab": {
          "base_uri": "https://localhost:8080/",
          "height": 449
        },
        "id": "qb9LKLPzrx3u",
        "outputId": "271c8ce1-30ac-4787-9aa1-83e1da999e11"
      },
      "execution_count": null,
      "outputs": [
        {
          "output_type": "display_data",
          "data": {
            "text/plain": [
              "<Figure size 640x480 with 1 Axes>"
            ],
            "image/png": "[encoded data removed]"
          },
          "metadata": {}
        }
      ]
    },
    {
      "cell_type": "code",
      "source": [
        "train_pred = LModel.forward(X_Train)\n",
        "test_pred = LModel.forward(X_Test)\n",
        "\n",
        "print('Train MSE: %.5f' % LModel.loss(train_pred, yTrain))\n",
        "print('Test MSE: %.5f' % LModel.loss(test_pred, yTest))"
      ],
      "metadata": {
        "colab": {
          "base_uri": "https://localhost:8080/"
        },
        "id": "cBA8XSaJsRzR",
        "outputId": "d98bb5b8-23f1-4786-c99b-2bfb0bf77f67"
      },
      "execution_count": null,
      "outputs": [
        {
          "output_type": "stream",
          "name": "stdout",
          "text": [
            "Train MSE: 370.22375\n",
            "Test MSE: 430.65616\n"
          ]
        }
      ]
    },
    {
      "cell_type": "code",
      "source": [
        "print('Weights', LModel.weights)\n",
        "print('Bias', LModel.bias)"
      ],
      "metadata": {
        "colab": {
          "base_uri": "https://localhost:8080/"
        },
        "id": "k7j-q10ysi64",
        "outputId": "c98ddcc8-ca2f-465f-e40c-d1cde39c9114"
      },
      "execution_count": null,
      "outputs": [
        {
          "output_type": "stream",
          "name": "stdout",
          "text": [
            "Weights tensor([[-0.6354],\n",
            "        [39.2148]])\n",
            "Bias tensor([-1.9925])\n"
          ]
        }
      ]
    },
    {
      "cell_type": "code",
      "source": [
        "def analytical_solution(x, y):\n",
        "    Xb = torch.cat( (torch.ones((x.size(0), 1)), x), dim=1)\n",
        "    w = torch.zeros(x.size(1))\n",
        "    z = torch.inverse(torch.matmul(Xb.t(), Xb))\n",
        "    params = torch.matmul(z, torch.matmul(Xb.t(), y))\n",
        "    b, w = torch.tensor([params[0]]), params[1:].view(x.size(1), 1)\n",
        "    return w, b\n",
        "\n",
        "w, b = analytical_solution(X_Train, yTrain)\n",
        "print('Analytical weights', w)\n",
        "print('Analytical bias', b)"
      ],
      "metadata": {
        "colab": {
          "base_uri": "https://localhost:8080/"
        },
        "id": "z9tBuKl9soL_",
        "outputId": "2284f218-c205-40e4-aca4-51125544131f"
      },
      "execution_count": null,
      "outputs": [
        {
          "output_type": "stream",
          "name": "stdout",
          "text": [
            "Analytical weights tensor([[-0.6008],\n",
            "        [39.6762]])\n",
            "Analytical bias tensor([-2.0157])\n"
          ]
        }
      ]
    },
    {
      "cell_type": "code",
      "source": [
        "torch.__version__\n"
      ],
      "metadata": {
        "colab": {
          "base_uri": "https://localhost:8080/",
          "height": 35
        },
        "id": "HMNebhSFuWCV",
        "outputId": "f92ce4d8-5809-4cd0-de88-d73c2bf5819a"
      },
      "execution_count": null,
      "outputs": [
        {
          "output_type": "execute_result",
          "data": {
            "text/plain": [
              "'2.1.0+cu121'"
            ],
            "application/vnd.google.colaboratory.intrinsic+json": {
              "type": "string"
            }
          },
          "metadata": {},
          "execution_count": 23
        }
      ]
    },
    {
      "cell_type": "markdown",
      "source": [
        "#Semi Auto Implementation"
      ],
      "metadata": {
        "id": "_FLQhMcIx4UO"
      }
    },
    {
      "cell_type": "code",
      "source": [
        "class LinearRegAuto :\n",
        "\n",
        "  def __init__(self,numFeatures):\n",
        "    self.numFeatures = numFeatures\n",
        "    # self.weights = torch.zeros((numFeatures,1),dtype=torch.float,requiresGrad=True)\n",
        "    # self.weights = torch.zeros((numFeatures, 1), dtype=torch.float, requires_grad=True)\n",
        "    self.weights = torch.zeros(numFeatures, 1,\n",
        "                                  dtype=torch.float,\n",
        "                                  requires_grad=True)\n",
        "    self.bias = torch.zeros(1, dtype=torch.float,\n",
        "                                requires_grad=True)\n",
        "    # self.bias = torch.zeros(1,dtype=torch.float,requiresGrad=True)\n",
        "\n",
        "  def forward(self,X):\n",
        "    predictions = torch.add(torch.mm(X,self.weights),self.bias)\n",
        "    return predictions.view(-1)\n",
        "\n",
        "\n",
        "\n",
        "\n",
        "  def loss(self,yhat,y):\n",
        "    return torch.mean((yhat-y)**2)\n",
        "\n",
        "  def train(self,X,y,epoch):\n",
        "    cost = []\n",
        "    for i in range(epoch):\n",
        "      pred = self.forward(X)\n",
        "      L = self.loss(y,pred)\n",
        "      cost.append(L.detach().numpy())\n",
        "\n",
        "      weightback= torch.autograd.grad(L,self.weights,retain_graph=True)[0]\n",
        "      # print(weightback)\n",
        "      biasback= torch.autograd.grad(L,self.bias)[0]\n",
        "      with torch.no_grad():\n",
        "        self.weights -=0.1*weightback\n",
        "        self.bias -=0.1*biasback\n",
        "    return cost"
      ],
      "metadata": {
        "id": "87neJhJ1s16q"
      },
      "execution_count": null,
      "outputs": []
    },
    {
      "cell_type": "code",
      "source": [
        "LModel2 = LinearRegAuto(2)"
      ],
      "metadata": {
        "id": "o6m0DSuVtvJ1"
      },
      "execution_count": null,
      "outputs": []
    },
    {
      "cell_type": "code",
      "source": [
        "LossT2 = LModel2.train(X_Train,yTrain,20)"
      ],
      "metadata": {
        "colab": {
          "base_uri": "https://localhost:8080/"
        },
        "id": "51WA0s6btzP6",
        "outputId": "272f9e35-6ed8-449b-9546-69619dec738e"
      },
      "execution_count": null,
      "outputs": [
        {
          "output_type": "stream",
          "name": "stdout",
          "text": [
            "tensor([[  2.6318],\n",
            "        [-79.2750]])\n",
            "tensor([[  1.8200],\n",
            "        [-63.4303]])\n",
            "tensor([[  1.2276],\n",
            "        [-50.7535]])\n",
            "tensor([[  0.7992],\n",
            "        [-40.6111]])\n",
            "tensor([[  0.4930],\n",
            "        [-32.4961]])\n",
            "tensor([[  0.2773],\n",
            "        [-26.0032]])\n",
            "tensor([[  0.1281],\n",
            "        [-20.8081]])\n",
            "tensor([[  0.0274],\n",
            "        [-16.6512]])\n",
            "tensor([[ -0.0382],\n",
            "        [-13.3250]])\n",
            "tensor([[ -0.0786],\n",
            "        [-10.6635]])\n",
            "tensor([[-0.1014],\n",
            "        [-8.5337]])\n",
            "tensor([[-0.1119],\n",
            "        [-6.8295]])\n",
            "tensor([[-0.1142],\n",
            "        [-5.4657]])\n",
            "tensor([[-0.1111],\n",
            "        [-4.3744]])\n",
            "tensor([[-0.1047],\n",
            "        [-3.5010]])\n",
            "tensor([[-0.0964],\n",
            "        [-2.8020]])\n",
            "tensor([[-0.0873],\n",
            "        [-2.2427]])\n",
            "tensor([[-0.0779],\n",
            "        [-1.7950]])\n",
            "tensor([[-0.0688],\n",
            "        [-1.4367]])\n",
            "tensor([[-0.0603],\n",
            "        [-1.1500]])\n"
          ]
        }
      ]
    },
    {
      "cell_type": "code",
      "source": [
        "LossT2"
      ],
      "metadata": {
        "colab": {
          "base_uri": "https://localhost:8080/"
        },
        "id": "JbM1fZ0At02x",
        "outputId": "a7c6d8fb-1690-4828-f0b5-07cf8b9b909f"
      },
      "execution_count": null,
      "outputs": [
        {
          "output_type": "execute_result",
          "data": {
            "text/plain": [
              "[array(1947.5277, dtype=float32),\n",
              " array(1379.832, dtype=float32),\n",
              " array(1016.4833, dtype=float32),\n",
              " array(783.9065, dtype=float32),\n",
              " array(635.0234, dtype=float32),\n",
              " array(539.7089, dtype=float32),\n",
              " array(478.684, dtype=float32),\n",
              " array(439.60974, dtype=float32),\n",
              " array(414.58844, dtype=float32),\n",
              " array(398.5647, dtype=float32),\n",
              " array(388.30215, dtype=float32),\n",
              " array(381.72888, dtype=float32),\n",
              " array(377.5183, dtype=float32),\n",
              " array(374.821, dtype=float32),\n",
              " array(373.0929, dtype=float32),\n",
              " array(371.98566, dtype=float32),\n",
              " array(371.27618, dtype=float32),\n",
              " array(370.82156, dtype=float32),\n",
              " array(370.53024, dtype=float32),\n",
              " array(370.34348, dtype=float32)]"
            ]
          },
          "metadata": {},
          "execution_count": 59
        }
      ]
    },
    {
      "cell_type": "code",
      "source": [
        "import numpy as np\n",
        "plt.plot(np.arange(20),LossT2)\n",
        "plt.ylabel('Mean Squared Error')\n",
        "plt.xlabel('Epoch')\n",
        "plt.show()"
      ],
      "metadata": {
        "colab": {
          "base_uri": "https://localhost:8080/",
          "height": 449
        },
        "id": "ug2jEgUQt3jg",
        "outputId": "c4b84226-cd09-449f-8620-179247d8c255"
      },
      "execution_count": null,
      "outputs": [
        {
          "output_type": "display_data",
          "data": {
            "text/plain": [
              "<Figure size 640x480 with 1 Axes>"
            ],
            "image/png": "[encoded data removed]"
          },
          "metadata": {}
        }
      ]
    },
    {
      "cell_type": "code",
      "source": [
        "train_pred = LModel2.forward(X_Train)\n",
        "test_pred = LModel2.forward(X_Test)\n",
        "\n",
        "print('Train MSE: %.5f' % LModel2.loss(train_pred, yTrain))\n",
        "print('Test MSE: %.5f' % LModel2.loss(test_pred, yTest))"
      ],
      "metadata": {
        "colab": {
          "base_uri": "https://localhost:8080/"
        },
        "id": "b49eAuwqt4FF",
        "outputId": "dcc32d24-2c62-4bee-cca5-543c8a28127f"
      },
      "execution_count": null,
      "outputs": [
        {
          "output_type": "stream",
          "name": "stdout",
          "text": [
            "Train MSE: 370.22375\n",
            "Test MSE: 430.65616\n"
          ]
        }
      ]
    },
    {
      "cell_type": "code",
      "source": [],
      "metadata": {
        "id": "mW1WRdLzwv0c"
      },
      "execution_count": null,
      "outputs": []
    },
    {
      "cell_type": "code",
      "source": [
        "print('Weights', LModel2.weights)\n",
        "print('Bias', LModel2.bias)"
      ],
      "metadata": {
        "colab": {
          "base_uri": "https://localhost:8080/"
        },
        "id": "s_f58GIct9GX",
        "outputId": "38e70630-0a3a-46ae-935d-1429825aca7f"
      },
      "execution_count": null,
      "outputs": [
        {
          "output_type": "stream",
          "name": "stdout",
          "text": [
            "Weights tensor([[-0.6354],\n",
            "        [39.2148]], requires_grad=True)\n",
            "Bias tensor([-1.9925], requires_grad=True)\n"
          ]
        }
      ]
    },
    {
      "cell_type": "markdown",
      "source": [
        "#Auto Implementation"
      ],
      "metadata": {
        "id": "xXj4WcoPx7Sf"
      }
    },
    {
      "cell_type": "code",
      "source": [
        "class AutoLinearReg(torch.nn.Module) :\n",
        "  def __init__(self,numFeatures):\n",
        "    super(AutoLinearReg,self).__init__()\n",
        "    self.linear = torch.nn.Linear(numFeatures,1)\n",
        "\n",
        "    self.linear.weight.detach().zero_()\n",
        "    self.linear.bias.detach().zero_()\n",
        "\n",
        "  def forward(self,X):\n",
        "    netInputs = self.linear(X)\n",
        "    return netInputs.view(-1)\n",
        "\n",
        "  def train(self,X,y,epoch):\n",
        "\n",
        "    cost = []\n",
        "\n",
        "    for i in range(epoch):\n",
        "      yhat = self.linear(X)\n",
        "      loss = torch.nn.functional.mse_loss(yhat,y[None,:].t())\n",
        "      optimizer = torch.optim.SGD(self.parameters(),lr=0.1)\n",
        "      optimizer.zero_grad()\n",
        "      loss.backward()\n",
        "      optimizer.step()\n",
        "      # print(yhat.shape)\n",
        "      with torch.no_grad():\n",
        "        l = torch.nn.functional.mse_loss(yhat,y[None,:].t())\n",
        "        # print(l)\n",
        "        cost.append(l)\n",
        "    return cost\n"
      ],
      "metadata": {
        "id": "On01xjiwx-Ka"
      },
      "execution_count": null,
      "outputs": []
    },
    {
      "cell_type": "code",
      "source": [
        "LModel3 = AutoLinearReg(2)"
      ],
      "metadata": {
        "id": "7vq-pkfh5sLm"
      },
      "execution_count": null,
      "outputs": []
    },
    {
      "cell_type": "code",
      "source": [
        "yTrain.shape"
      ],
      "metadata": {
        "colab": {
          "base_uri": "https://localhost:8080/"
        },
        "id": "acY0VkJT65j7",
        "outputId": "08a81b96-53d8-4f7c-a763-b43b5a647f3f"
      },
      "execution_count": null,
      "outputs": [
        {
          "output_type": "execute_result",
          "data": {
            "text/plain": [
              "torch.Size([800])"
            ]
          },
          "metadata": {},
          "execution_count": 116
        }
      ]
    },
    {
      "cell_type": "code",
      "source": [
        "LossT3 = LModel3.train(X_Train,yTrain,20)"
      ],
      "metadata": {
        "id": "T4lKWyMd5u_1"
      },
      "execution_count": null,
      "outputs": []
    },
    {
      "cell_type": "code",
      "source": [
        "LossT3"
      ],
      "metadata": {
        "colab": {
          "base_uri": "https://localhost:8080/"
        },
        "id": "pMJx-ANj6NqA",
        "outputId": "61e8342a-2451-4090-9863-2a140ce03466"
      },
      "execution_count": null,
      "outputs": [
        {
          "output_type": "execute_result",
          "data": {
            "text/plain": [
              "[tensor(1947.5277),\n",
              " tensor(1379.8320),\n",
              " tensor(1016.4833),\n",
              " tensor(783.9065),\n",
              " tensor(635.0234),\n",
              " tensor(539.7089),\n",
              " tensor(478.6840),\n",
              " tensor(439.6097),\n",
              " tensor(414.5884),\n",
              " tensor(398.5647),\n",
              " tensor(388.3022),\n",
              " tensor(381.7289),\n",
              " tensor(377.5183),\n",
              " tensor(374.8210),\n",
              " tensor(373.0929),\n",
              " tensor(371.9857),\n",
              " tensor(371.2762),\n",
              " tensor(370.8216),\n",
              " tensor(370.5302),\n",
              " tensor(370.3435)]"
            ]
          },
          "metadata": {},
          "execution_count": 118
        }
      ]
    },
    {
      "cell_type": "code",
      "source": [
        "import numpy as np\n",
        "plt.plot(np.arange(20),LossT3)\n",
        "plt.ylabel('Mean Squared Error')\n",
        "plt.xlabel('Epoch')\n",
        "plt.show()"
      ],
      "metadata": {
        "colab": {
          "base_uri": "https://localhost:8080/",
          "height": 449
        },
        "id": "kAzjhmGD7PAe",
        "outputId": "a85d51b8-81b5-420c-8aca-30500e257cdf"
      },
      "execution_count": null,
      "outputs": [
        {
          "output_type": "display_data",
          "data": {
            "text/plain": [
              "<Figure size 640x480 with 1 Axes>"
            ],
            "image/png": "[encoded data removed]"
          },
          "metadata": {}
        }
      ]
    },
    {
      "cell_type": "code",
      "source": [
        "train_pred = LModel3.forward(X_Train)\n",
        "test_pred = LModel3.forward(X_Test)\n",
        "\n",
        "print('Train MSE: %.5f' % torch.nn.functional.mse_loss(train_pred, yTrain))\n",
        "print('Test MSE: %.5f' % torch.nn.functional.mse_loss(test_pred, yTest))"
      ],
      "metadata": {
        "colab": {
          "base_uri": "https://localhost:8080/"
        },
        "id": "NqGFD0C17RSJ",
        "outputId": "1d1c7b50-6deb-4bb2-d9f8-4b4d85bc04f4"
      },
      "execution_count": null,
      "outputs": [
        {
          "output_type": "stream",
          "name": "stdout",
          "text": [
            "Train MSE: 370.22375\n",
            "Test MSE: 430.65616\n"
          ]
        }
      ]
    },
    {
      "cell_type": "code",
      "source": [
        "print('Weights', LModel3.weight)\n",
        "print('Bias', LModel3.bias)"
      ],
      "metadata": {
        "colab": {
          "base_uri": "https://localhost:8080/",
          "height": 315
        },
        "id": "ftRr5zeN_iXI",
        "outputId": "1a40cfc2-7302-46ec-9b1e-81445f8b9d6f"
      },
      "execution_count": null,
      "outputs": [
        {
          "output_type": "error",
          "ename": "AttributeError",
          "evalue": "'AutoLinearReg' object has no attribute 'weight'",
          "traceback": [
            "\u001b[0;31m---------------------------------------------------------------------------\u001b[0m",
            "\u001b[0;31mAttributeError\u001b[0m                            Traceback (most recent call last)",
            "\u001b[0;32m<ipython-input-123-f310751f005e>\u001b[0m in \u001b[0;36m<cell line: 1>\u001b[0;34m()\u001b[0m\n\u001b[0;32m----> 1\u001b[0;31m \u001b[0mprint\u001b[0m\u001b[0;34m(\u001b[0m\u001b[0;34m'Weights'\u001b[0m\u001b[0;34m,\u001b[0m \u001b[0mLModel3\u001b[0m\u001b[0;34m.\u001b[0m\u001b[0mweight\u001b[0m\u001b[0;34m)\u001b[0m\u001b[0;34m\u001b[0m\u001b[0;34m\u001b[0m\u001b[0m\n\u001b[0m\u001b[1;32m      2\u001b[0m \u001b[0mprint\u001b[0m\u001b[0;34m(\u001b[0m\u001b[0;34m'Bias'\u001b[0m\u001b[0;34m,\u001b[0m \u001b[0mLModel3\u001b[0m\u001b[0;34m.\u001b[0m\u001b[0mbias\u001b[0m\u001b[0;34m)\u001b[0m\u001b[0;34m\u001b[0m\u001b[0;34m\u001b[0m\u001b[0m\n",
            "\u001b[0;32m/usr/local/lib/python3.10/dist-packages/torch/nn/modules/module.py\u001b[0m in \u001b[0;36m__getattr__\u001b[0;34m(self, name)\u001b[0m\n\u001b[1;32m   1693\u001b[0m             \u001b[0;32mif\u001b[0m \u001b[0mname\u001b[0m \u001b[0;32min\u001b[0m \u001b[0mmodules\u001b[0m\u001b[0;34m:\u001b[0m\u001b[0;34m\u001b[0m\u001b[0;34m\u001b[0m\u001b[0m\n\u001b[1;32m   1694\u001b[0m                 \u001b[0;32mreturn\u001b[0m \u001b[0mmodules\u001b[0m\u001b[0;34m[\u001b[0m\u001b[0mname\u001b[0m\u001b[0;34m]\u001b[0m\u001b[0;34m\u001b[0m\u001b[0;34m\u001b[0m\u001b[0m\n\u001b[0;32m-> 1695\u001b[0;31m         \u001b[0;32mraise\u001b[0m \u001b[0mAttributeError\u001b[0m\u001b[0;34m(\u001b[0m\u001b[0;34mf\"'{type(self).__name__}' object has no attribute '{name}'\"\u001b[0m\u001b[0;34m)\u001b[0m\u001b[0;34m\u001b[0m\u001b[0;34m\u001b[0m\u001b[0m\n\u001b[0m\u001b[1;32m   1696\u001b[0m \u001b[0;34m\u001b[0m\u001b[0m\n\u001b[1;32m   1697\u001b[0m     \u001b[0;32mdef\u001b[0m \u001b[0m__setattr__\u001b[0m\u001b[0;34m(\u001b[0m\u001b[0mself\u001b[0m\u001b[0;34m,\u001b[0m \u001b[0mname\u001b[0m\u001b[0;34m:\u001b[0m \u001b[0mstr\u001b[0m\u001b[0;34m,\u001b[0m \u001b[0mvalue\u001b[0m\u001b[0;34m:\u001b[0m \u001b[0mUnion\u001b[0m\u001b[0;34m[\u001b[0m\u001b[0mTensor\u001b[0m\u001b[0;34m,\u001b[0m \u001b[0;34m'Module'\u001b[0m\u001b[0;34m]\u001b[0m\u001b[0;34m)\u001b[0m \u001b[0;34m->\u001b[0m \u001b[0;32mNone\u001b[0m\u001b[0;34m:\u001b[0m\u001b[0;34m\u001b[0m\u001b[0;34m\u001b[0m\u001b[0m\n",
            "\u001b[0;31mAttributeError\u001b[0m: 'AutoLinearReg' object has no attribute 'weight'"
          ]
        }
      ]
    }
  ]
}