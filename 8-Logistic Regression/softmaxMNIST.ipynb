{
  "nbformat": 4,
  "nbformat_minor": 0,
  "metadata": {
    "colab": {
      "provenance": [],
      "gpuType": "T4"
    },
    "kernelspec": {
      "name": "python3",
      "display_name": "Python 3"
    },
    "language_info": {
      "name": "python"
    },
    "accelerator": "GPU"
  },
  "cells": [
    {
      "cell_type": "markdown",
      "source": [
        "#Imports\n",
        "\n"
      ],
      "metadata": {
        "id": "ParKtm8YIfWN"
      }
    },
    {
      "cell_type": "code",
      "execution_count": 1,
      "metadata": {
        "id": "jfRprVwqGOI5"
      },
      "outputs": [],
      "source": [
        "import time\n",
        "from torchvision import datasets\n",
        "from torchvision import transforms\n",
        "from torch.utils.data import DataLoader\n",
        "import torch.nn.functional as F\n",
        "import torch"
      ]
    },
    {
      "cell_type": "markdown",
      "source": [
        "#Settings and Dataset"
      ],
      "metadata": {
        "id": "xQTdkay2IwMU"
      }
    },
    {
      "cell_type": "code",
      "source": [
        "############\n",
        "###Settings\n",
        "############\n",
        "\n",
        "#DEVICE\n",
        "DEVICE = torch.device(\"cuda:0\" if torch.cuda.is_available() else \"cpu\")\n",
        "\n",
        "#Hyperparameters\n",
        "randomSeed = 123\n",
        "learningRate = 0.1\n",
        "numEpochs = 25\n",
        "batchSize = 256\n",
        "\n",
        "#Structure\n",
        "numFeatures = 28*28\n",
        "numClasses = 10\n"
      ],
      "metadata": {
        "id": "7q56S2WjIy1R"
      },
      "execution_count": 2,
      "outputs": []
    },
    {
      "cell_type": "code",
      "source": [
        "##\n",
        "#MNIST\n",
        "##\n",
        "\n",
        "trainData = datasets.MNIST(root='data',\n",
        "                           train=True,\n",
        "                           transform=transforms.ToTensor(),\n",
        "                           download=True)\n",
        "\n",
        "testData = datasets.MNIST(root='data',\n",
        "                          train=False,\n",
        "                          transform = transforms.ToTensor())\n",
        "\n",
        "trainLoader = DataLoader(dataset = trainData, batch_size = batchSize, shuffle=True)\n",
        "testLoader  = DataLoader(dataset = testData , batch_size = batchSize, shuffle=True)\n"
      ],
      "metadata": {
        "colab": {
          "base_uri": "https://localhost:8080/"
        },
        "id": "aieJ8owiJXzL",
        "outputId": "be27f563-3951-485f-f368-ca1bb9edffff"
      },
      "execution_count": 3,
      "outputs": [
        {
          "output_type": "stream",
          "name": "stdout",
          "text": [
            "Downloading http://yann.lecun.com/exdb/mnist/train-images-idx3-ubyte.gz\n",
            "Downloading http://yann.lecun.com/exdb/mnist/train-images-idx3-ubyte.gz to data/MNIST/raw/train-images-idx3-ubyte.gz\n"
          ]
        },
        {
          "output_type": "stream",
          "name": "stderr",
          "text": [
            "100%|██████████| 9912422/9912422 [00:00<00:00, 169343578.27it/s]"
          ]
        },
        {
          "output_type": "stream",
          "name": "stdout",
          "text": [
            "Extracting data/MNIST/raw/train-images-idx3-ubyte.gz to data/MNIST/raw\n"
          ]
        },
        {
          "output_type": "stream",
          "name": "stderr",
          "text": [
            "\n"
          ]
        },
        {
          "output_type": "stream",
          "name": "stdout",
          "text": [
            "\n",
            "Downloading http://yann.lecun.com/exdb/mnist/train-labels-idx1-ubyte.gz\n",
            "Downloading http://yann.lecun.com/exdb/mnist/train-labels-idx1-ubyte.gz to data/MNIST/raw/train-labels-idx1-ubyte.gz\n"
          ]
        },
        {
          "output_type": "stream",
          "name": "stderr",
          "text": [
            "100%|██████████| 28881/28881 [00:00<00:00, 100444190.57it/s]\n"
          ]
        },
        {
          "output_type": "stream",
          "name": "stdout",
          "text": [
            "Extracting data/MNIST/raw/train-labels-idx1-ubyte.gz to data/MNIST/raw\n",
            "\n",
            "Downloading http://yann.lecun.com/exdb/mnist/t10k-images-idx3-ubyte.gz\n",
            "Downloading http://yann.lecun.com/exdb/mnist/t10k-images-idx3-ubyte.gz to data/MNIST/raw/t10k-images-idx3-ubyte.gz\n"
          ]
        },
        {
          "output_type": "stream",
          "name": "stderr",
          "text": [
            "100%|██████████| 1648877/1648877 [00:00<00:00, 133982165.07it/s]"
          ]
        },
        {
          "output_type": "stream",
          "name": "stdout",
          "text": [
            "Extracting data/MNIST/raw/t10k-images-idx3-ubyte.gz to data/MNIST/raw\n"
          ]
        },
        {
          "output_type": "stream",
          "name": "stderr",
          "text": [
            "\n"
          ]
        },
        {
          "output_type": "stream",
          "name": "stdout",
          "text": [
            "\n",
            "Downloading http://yann.lecun.com/exdb/mnist/t10k-labels-idx1-ubyte.gz\n",
            "Downloading http://yann.lecun.com/exdb/mnist/t10k-labels-idx1-ubyte.gz to data/MNIST/raw/t10k-labels-idx1-ubyte.gz\n"
          ]
        },
        {
          "output_type": "stream",
          "name": "stderr",
          "text": [
            "100%|██████████| 4542/4542 [00:00<00:00, 19885729.40it/s]\n"
          ]
        },
        {
          "output_type": "stream",
          "name": "stdout",
          "text": [
            "Extracting data/MNIST/raw/t10k-labels-idx1-ubyte.gz to data/MNIST/raw\n",
            "\n"
          ]
        }
      ]
    },
    {
      "cell_type": "code",
      "source": [
        "for images,labels in trainLoader:\n",
        "  print('Image batch dimensions: ', images.shape)\n",
        "  print('Label batch dimensions: ', labels.shape)\n",
        "  break"
      ],
      "metadata": {
        "colab": {
          "base_uri": "https://localhost:8080/"
        },
        "id": "QN4ffu6lPMGV",
        "outputId": "0d1e5efd-6ed9-4aec-9f67-9aac9ae85d2b"
      },
      "execution_count": 4,
      "outputs": [
        {
          "output_type": "stream",
          "name": "stdout",
          "text": [
            "Image batch dimensions:  torch.Size([256, 1, 28, 28])\n",
            "Label batch dimensions:  torch.Size([256])\n"
          ]
        }
      ]
    },
    {
      "cell_type": "code",
      "source": [
        "class softmaxRegression(torch.nn.Module):\n",
        "\n",
        "  def __init__(self,numFeatures,numClasses):\n",
        "    super(softmaxRegression,self).__init__()\n",
        "    self.linear = torch.nn.Linear(numFeatures, numClasses)\n",
        "    self.linear.weight.detach().zero_()\n",
        "    self.linear.bias.detach().zero_()\n",
        "\n",
        "  def predict(self,x):\n",
        "    logits, probas = self.forward(x)\n",
        "    labels = torch.argmax(probas,dim=1)\n",
        "    return labels\n",
        "\n",
        "  def forward(self,x):\n",
        "    logits = self.linear(x)\n",
        "    probas = F.softmax(logits,dim=1)\n",
        "    return logits,probas\n",
        "\n",
        "  def evaluate(self,x,y):\n",
        "    pred  = self.predict(x).float()\n",
        "    acc = torch.sum(pred.view(-1) == y.float()).item() / y.size(0)\n",
        "    return acc\n"
      ],
      "metadata": {
        "id": "WFL0k_9EPlGn"
      },
      "execution_count": 5,
      "outputs": []
    },
    {
      "cell_type": "code",
      "source": [
        "model = softmaxRegression(numFeatures=numFeatures, numClasses=numClasses)\n",
        "model.to(DEVICE)\n",
        "\n",
        "optimizer = torch.optim.SGD(model.parameters(),lr=learningRate)"
      ],
      "metadata": {
        "id": "HlDPDzbTPsz5"
      },
      "execution_count": 6,
      "outputs": []
    },
    {
      "cell_type": "code",
      "source": [
        "torch.manual_seed(randomSeed)\n",
        "\n",
        "def computeAccuracy(model, dataLoader):\n",
        "  correctPred = 0\n",
        "  totalExamples = 0\n",
        "  for features,targets in dataLoader:\n",
        "    features = features.view(-1,28*28).to(DEVICE)\n",
        "    targets = targets.to(DEVICE)\n",
        "    logits,probas = model(features)\n",
        "    _,predictedLabels = torch.max(probas,1)\n",
        "    totalExamples+=targets.size(0)\n",
        "    correctPred+=(predictedLabels == targets).sum()\n",
        "\n",
        "  return correctPred.float() / totalExamples * 100"
      ],
      "metadata": {
        "id": "grZx58hRP96n"
      },
      "execution_count": 7,
      "outputs": []
    },
    {
      "cell_type": "code",
      "source": [
        "startTime = time.time()\n",
        "epochCost = []\n",
        "\n",
        "for e in range(numEpochs):\n",
        "  avgCost = 0\n",
        "  for batchIDx, (features,targets) in enumerate(trainLoader):\n",
        "    features = features.view(-1,28*28).to(DEVICE)\n",
        "    targets = targets.to(DEVICE)\n",
        "\n",
        "\n",
        "    logits,probas = model(features)\n",
        "\n",
        "    cost = F.cross_entropy(logits,targets)\n",
        "    optimizer.zero_grad()\n",
        "    cost.backward()\n",
        "    avgCost += cost\n",
        "\n",
        "    optimizer.step()\n",
        "  #\n",
        "    if(not batchIDx % 50):\n",
        "      print('Epoch: %03d/%03d | Batch %03d/%03d | Cost: %.4f' %(e+1,numEpochs, batchIDx, len(trainData)//batchSize, cost) )\n",
        "  with torch.set_grad_enabled(False):\n",
        "    avgCost = avgCost/len(trainData)\n",
        "    epochCost.append(avgCost)\n",
        "    print('Epoch %03d/%03d training Accuracy: %.2f%%' %(e+1,numEpochs, computeAccuracy(model,trainLoader) ))\n",
        "    print('Time Elasped: %.2f min' % ((time.time() - startTime)/60))"
      ],
      "metadata": {
        "colab": {
          "base_uri": "https://localhost:8080/"
        },
        "id": "ByI3Z6oNRJmp",
        "outputId": "fe1b6397-6b89-4ca8-a7d2-a120e9957cf6"
      },
      "execution_count": 8,
      "outputs": [
        {
          "output_type": "stream",
          "name": "stdout",
          "text": [
            "Epoch: 001/025 | Batch 000/234 | Cost: 2.3026\n",
            "Epoch: 001/025 | Batch 050/234 | Cost: 0.7693\n",
            "Epoch: 001/025 | Batch 100/234 | Cost: 0.5321\n",
            "Epoch: 001/025 | Batch 150/234 | Cost: 0.5617\n",
            "Epoch: 001/025 | Batch 200/234 | Cost: 0.5501\n",
            "Epoch 001/025 training Accuracy: 88.05%\n",
            "Time Elasped: 0.39 min\n",
            "Epoch: 002/025 | Batch 000/234 | Cost: 0.4793\n",
            "Epoch: 002/025 | Batch 050/234 | Cost: 0.3686\n",
            "Epoch: 002/025 | Batch 100/234 | Cost: 0.4535\n",
            "Epoch: 002/025 | Batch 150/234 | Cost: 0.3731\n",
            "Epoch: 002/025 | Batch 200/234 | Cost: 0.4791\n",
            "Epoch 002/025 training Accuracy: 89.26%\n",
            "Time Elasped: 0.61 min\n",
            "Epoch: 003/025 | Batch 000/234 | Cost: 0.4057\n",
            "Epoch: 003/025 | Batch 050/234 | Cost: 0.4456\n",
            "Epoch: 003/025 | Batch 100/234 | Cost: 0.3770\n",
            "Epoch: 003/025 | Batch 150/234 | Cost: 0.3893\n",
            "Epoch: 003/025 | Batch 200/234 | Cost: 0.2996\n",
            "Epoch 003/025 training Accuracy: 89.94%\n",
            "Time Elasped: 0.82 min\n",
            "Epoch: 004/025 | Batch 000/234 | Cost: 0.4298\n",
            "Epoch: 004/025 | Batch 050/234 | Cost: 0.3918\n",
            "Epoch: 004/025 | Batch 100/234 | Cost: 0.3756\n",
            "Epoch: 004/025 | Batch 150/234 | Cost: 0.3902\n",
            "Epoch: 004/025 | Batch 200/234 | Cost: 0.3132\n",
            "Epoch 004/025 training Accuracy: 90.29%\n",
            "Time Elasped: 1.04 min\n",
            "Epoch: 005/025 | Batch 000/234 | Cost: 0.3102\n",
            "Epoch: 005/025 | Batch 050/234 | Cost: 0.3763\n",
            "Epoch: 005/025 | Batch 100/234 | Cost: 0.3618\n",
            "Epoch: 005/025 | Batch 150/234 | Cost: 0.3139\n",
            "Epoch: 005/025 | Batch 200/234 | Cost: 0.3217\n",
            "Epoch 005/025 training Accuracy: 90.61%\n",
            "Time Elasped: 1.26 min\n",
            "Epoch: 006/025 | Batch 000/234 | Cost: 0.3214\n",
            "Epoch: 006/025 | Batch 050/234 | Cost: 0.4165\n",
            "Epoch: 006/025 | Batch 100/234 | Cost: 0.3141\n",
            "Epoch: 006/025 | Batch 150/234 | Cost: 0.2678\n",
            "Epoch: 006/025 | Batch 200/234 | Cost: 0.3189\n",
            "Epoch 006/025 training Accuracy: 90.83%\n",
            "Time Elasped: 1.49 min\n",
            "Epoch: 007/025 | Batch 000/234 | Cost: 0.3587\n",
            "Epoch: 007/025 | Batch 050/234 | Cost: 0.3007\n",
            "Epoch: 007/025 | Batch 100/234 | Cost: 0.3010\n",
            "Epoch: 007/025 | Batch 150/234 | Cost: 0.3451\n",
            "Epoch: 007/025 | Batch 200/234 | Cost: 0.3099\n",
            "Epoch 007/025 training Accuracy: 91.01%\n",
            "Time Elasped: 1.71 min\n",
            "Epoch: 008/025 | Batch 000/234 | Cost: 0.2991\n",
            "Epoch: 008/025 | Batch 050/234 | Cost: 0.3906\n",
            "Epoch: 008/025 | Batch 100/234 | Cost: 0.2487\n",
            "Epoch: 008/025 | Batch 150/234 | Cost: 0.3093\n",
            "Epoch: 008/025 | Batch 200/234 | Cost: 0.3785\n",
            "Epoch 008/025 training Accuracy: 91.21%\n",
            "Time Elasped: 1.94 min\n",
            "Epoch: 009/025 | Batch 000/234 | Cost: 0.2335\n",
            "Epoch: 009/025 | Batch 050/234 | Cost: 0.2315\n",
            "Epoch: 009/025 | Batch 100/234 | Cost: 0.2376\n",
            "Epoch: 009/025 | Batch 150/234 | Cost: 0.2611\n",
            "Epoch: 009/025 | Batch 200/234 | Cost: 0.3514\n",
            "Epoch 009/025 training Accuracy: 91.32%\n",
            "Time Elasped: 2.15 min\n",
            "Epoch: 010/025 | Batch 000/234 | Cost: 0.3314\n",
            "Epoch: 010/025 | Batch 050/234 | Cost: 0.3491\n",
            "Epoch: 010/025 | Batch 100/234 | Cost: 0.3197\n",
            "Epoch: 010/025 | Batch 150/234 | Cost: 0.3230\n",
            "Epoch: 010/025 | Batch 200/234 | Cost: 0.2563\n",
            "Epoch 010/025 training Accuracy: 91.46%\n",
            "Time Elasped: 2.37 min\n",
            "Epoch: 011/025 | Batch 000/234 | Cost: 0.3014\n",
            "Epoch: 011/025 | Batch 050/234 | Cost: 0.2455\n",
            "Epoch: 011/025 | Batch 100/234 | Cost: 0.3432\n",
            "Epoch: 011/025 | Batch 150/234 | Cost: 0.2749\n",
            "Epoch: 011/025 | Batch 200/234 | Cost: 0.3896\n",
            "Epoch 011/025 training Accuracy: 91.57%\n",
            "Time Elasped: 2.59 min\n",
            "Epoch: 012/025 | Batch 000/234 | Cost: 0.3600\n",
            "Epoch: 012/025 | Batch 050/234 | Cost: 0.3190\n",
            "Epoch: 012/025 | Batch 100/234 | Cost: 0.2703\n",
            "Epoch: 012/025 | Batch 150/234 | Cost: 0.3209\n",
            "Epoch: 012/025 | Batch 200/234 | Cost: 0.2498\n",
            "Epoch 012/025 training Accuracy: 91.58%\n",
            "Time Elasped: 2.82 min\n",
            "Epoch: 013/025 | Batch 000/234 | Cost: 0.2440\n",
            "Epoch: 013/025 | Batch 050/234 | Cost: 0.2772\n",
            "Epoch: 013/025 | Batch 100/234 | Cost: 0.4585\n",
            "Epoch: 013/025 | Batch 150/234 | Cost: 0.2891\n",
            "Epoch: 013/025 | Batch 200/234 | Cost: 0.2780\n",
            "Epoch 013/025 training Accuracy: 91.68%\n",
            "Time Elasped: 3.04 min\n",
            "Epoch: 014/025 | Batch 000/234 | Cost: 0.3692\n",
            "Epoch: 014/025 | Batch 050/234 | Cost: 0.3481\n",
            "Epoch: 014/025 | Batch 100/234 | Cost: 0.3567\n",
            "Epoch: 014/025 | Batch 150/234 | Cost: 0.2994\n",
            "Epoch: 014/025 | Batch 200/234 | Cost: 0.4025\n",
            "Epoch 014/025 training Accuracy: 91.78%\n",
            "Time Elasped: 3.25 min\n",
            "Epoch: 015/025 | Batch 000/234 | Cost: 0.3227\n",
            "Epoch: 015/025 | Batch 050/234 | Cost: 0.3938\n",
            "Epoch: 015/025 | Batch 100/234 | Cost: 0.2396\n",
            "Epoch: 015/025 | Batch 150/234 | Cost: 0.3593\n",
            "Epoch: 015/025 | Batch 200/234 | Cost: 0.2778\n",
            "Epoch 015/025 training Accuracy: 91.82%\n",
            "Time Elasped: 3.47 min\n",
            "Epoch: 016/025 | Batch 000/234 | Cost: 0.3591\n",
            "Epoch: 016/025 | Batch 050/234 | Cost: 0.3155\n",
            "Epoch: 016/025 | Batch 100/234 | Cost: 0.3261\n",
            "Epoch: 016/025 | Batch 150/234 | Cost: 0.2927\n",
            "Epoch: 016/025 | Batch 200/234 | Cost: 0.2214\n",
            "Epoch 016/025 training Accuracy: 91.83%\n",
            "Time Elasped: 3.68 min\n",
            "Epoch: 017/025 | Batch 000/234 | Cost: 0.4053\n",
            "Epoch: 017/025 | Batch 050/234 | Cost: 0.2795\n",
            "Epoch: 017/025 | Batch 100/234 | Cost: 0.2384\n",
            "Epoch: 017/025 | Batch 150/234 | Cost: 0.2092\n",
            "Epoch: 017/025 | Batch 200/234 | Cost: 0.2266\n",
            "Epoch 017/025 training Accuracy: 91.97%\n",
            "Time Elasped: 3.90 min\n",
            "Epoch: 018/025 | Batch 000/234 | Cost: 0.2993\n",
            "Epoch: 018/025 | Batch 050/234 | Cost: 0.2251\n",
            "Epoch: 018/025 | Batch 100/234 | Cost: 0.2479\n",
            "Epoch: 018/025 | Batch 150/234 | Cost: 0.3263\n",
            "Epoch: 018/025 | Batch 200/234 | Cost: 0.3964\n",
            "Epoch 018/025 training Accuracy: 92.00%\n",
            "Time Elasped: 4.12 min\n",
            "Epoch: 019/025 | Batch 000/234 | Cost: 0.2606\n",
            "Epoch: 019/025 | Batch 050/234 | Cost: 0.2849\n",
            "Epoch: 019/025 | Batch 100/234 | Cost: 0.2218\n",
            "Epoch: 019/025 | Batch 150/234 | Cost: 0.2942\n",
            "Epoch: 019/025 | Batch 200/234 | Cost: 0.2389\n",
            "Epoch 019/025 training Accuracy: 92.00%\n",
            "Time Elasped: 4.34 min\n",
            "Epoch: 020/025 | Batch 000/234 | Cost: 0.2396\n",
            "Epoch: 020/025 | Batch 050/234 | Cost: 0.2634\n",
            "Epoch: 020/025 | Batch 100/234 | Cost: 0.2526\n",
            "Epoch: 020/025 | Batch 150/234 | Cost: 0.2635\n",
            "Epoch: 020/025 | Batch 200/234 | Cost: 0.2948\n",
            "Epoch 020/025 training Accuracy: 92.00%\n",
            "Time Elasped: 4.56 min\n",
            "Epoch: 021/025 | Batch 000/234 | Cost: 0.3279\n",
            "Epoch: 021/025 | Batch 050/234 | Cost: 0.2551\n",
            "Epoch: 021/025 | Batch 100/234 | Cost: 0.2973\n",
            "Epoch: 021/025 | Batch 150/234 | Cost: 0.3861\n",
            "Epoch: 021/025 | Batch 200/234 | Cost: 0.2522\n",
            "Epoch 021/025 training Accuracy: 92.06%\n",
            "Time Elasped: 4.78 min\n",
            "Epoch: 022/025 | Batch 000/234 | Cost: 0.2628\n",
            "Epoch: 022/025 | Batch 050/234 | Cost: 0.3467\n",
            "Epoch: 022/025 | Batch 100/234 | Cost: 0.2834\n",
            "Epoch: 022/025 | Batch 150/234 | Cost: 0.2296\n",
            "Epoch: 022/025 | Batch 200/234 | Cost: 0.2980\n",
            "Epoch 022/025 training Accuracy: 92.12%\n",
            "Time Elasped: 5.01 min\n",
            "Epoch: 023/025 | Batch 000/234 | Cost: 0.3097\n",
            "Epoch: 023/025 | Batch 050/234 | Cost: 0.3839\n",
            "Epoch: 023/025 | Batch 100/234 | Cost: 0.3657\n",
            "Epoch: 023/025 | Batch 150/234 | Cost: 0.3523\n",
            "Epoch: 023/025 | Batch 200/234 | Cost: 0.2613\n",
            "Epoch 023/025 training Accuracy: 92.21%\n",
            "Time Elasped: 5.23 min\n",
            "Epoch: 024/025 | Batch 000/234 | Cost: 0.1889\n",
            "Epoch: 024/025 | Batch 050/234 | Cost: 0.2685\n",
            "Epoch: 024/025 | Batch 100/234 | Cost: 0.2989\n",
            "Epoch: 024/025 | Batch 150/234 | Cost: 0.2415\n",
            "Epoch: 024/025 | Batch 200/234 | Cost: 0.2237\n",
            "Epoch 024/025 training Accuracy: 92.19%\n",
            "Time Elasped: 5.45 min\n",
            "Epoch: 025/025 | Batch 000/234 | Cost: 0.2646\n",
            "Epoch: 025/025 | Batch 050/234 | Cost: 0.2387\n",
            "Epoch: 025/025 | Batch 100/234 | Cost: 0.3615\n",
            "Epoch: 025/025 | Batch 150/234 | Cost: 0.2183\n",
            "Epoch: 025/025 | Batch 200/234 | Cost: 0.3249\n",
            "Epoch 025/025 training Accuracy: 92.17%\n",
            "Time Elasped: 5.67 min\n"
          ]
        }
      ]
    },
    {
      "cell_type": "code",
      "source": [
        "%matplotlib inline\n",
        "import matplotlib\n",
        "import matplotlib.pyplot as plt\n",
        "EPOCHCOST = []\n",
        "for i in epochCost:\n",
        "  EPOCHCOST.append(i.to(\"cpu\"))\n",
        "plt.plot(EPOCHCOST)\n",
        "plt.ylabel('Avg Cross Entropy Loss \\n(approximated by averaging over miniBatches)')\n",
        "plt.xlabel('Epoch')\n",
        "plt.show()\n"
      ],
      "metadata": {
        "colab": {
          "base_uri": "https://localhost:8080/",
          "height": 449
        },
        "id": "P_lKBXibT4uO",
        "outputId": "50c29315-5c12-4be5-e258-74d327a7e7a6"
      },
      "execution_count": 12,
      "outputs": [
        {
          "output_type": "display_data",
          "data": {
            "text/plain": [
              "<Figure size 640x480 with 1 Axes>"
            ],
            "image/png": "[encoded data removed]"
          },
          "metadata": {}
        }
      ]
    },
    {
      "cell_type": "code",
      "source": [
        "print('Test accuracy: %.2f%%' % (computeAccuracy(model, testLoader)))"
      ],
      "metadata": {
        "colab": {
          "base_uri": "https://localhost:8080/"
        },
        "id": "TMIStZ24UREE",
        "outputId": "50bc5af8-0258-45eb-f72c-b994b53a9d34"
      },
      "execution_count": 13,
      "outputs": [
        {
          "output_type": "stream",
          "name": "stdout",
          "text": [
            "Test accuracy: 92.24%\n"
          ]
        }
      ]
    },
    {
      "cell_type": "code",
      "source": [
        "for features, targets in testLoader:\n",
        "  break\n",
        "fig, ax = plt.subplots(1,4)\n",
        "for i in range(4):\n",
        "  ax[i].imshow(features[i].view(28,28), cmap=matplotlib.cm.binary)\n",
        "\n",
        "plt.show()"
      ],
      "metadata": {
        "colab": {
          "base_uri": "https://localhost:8080/",
          "height": 172
        },
        "id": "7t6Xz04PUaAp",
        "outputId": "a483f06c-0e6b-4fc1-814d-4101e9d2a4bc"
      },
      "execution_count": 14,
      "outputs": [
        {
          "output_type": "display_data",
          "data": {
            "text/plain": [
              "<Figure size 640x480 with 4 Axes>"
            ],
            "image/png": "[encoded data removed]"
          },
          "metadata": {}
        }
      ]
    },
    {
      "cell_type": "code",
      "source": [
        "feat = features[:4]"
      ],
      "metadata": {
        "id": "oG_72YJfZDMv"
      },
      "execution_count": 18,
      "outputs": []
    },
    {
      "cell_type": "code",
      "source": [
        "_, predictions = model.forward(feat.view(-1,28*28).to(DEVICE))\n",
        "predictions = torch.argmax(predictions, dim=1)\n",
        "print('Predicted Labels', predictions)"
      ],
      "metadata": {
        "colab": {
          "base_uri": "https://localhost:8080/"
        },
        "id": "y4ZhKNzbWFVs",
        "outputId": "35e72f9a-e443-4d2b-c4f4-ad84126db88b"
      },
      "execution_count": 20,
      "outputs": [
        {
          "output_type": "stream",
          "name": "stdout",
          "text": [
            "Predicted Labels tensor([3, 1, 6, 1], device='cuda:0')\n"
          ]
        }
      ]
    }
  ]
}