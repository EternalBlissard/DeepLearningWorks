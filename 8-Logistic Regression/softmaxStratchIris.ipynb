{
  "nbformat": 4,
  "nbformat_minor": 0,
  "metadata": {
    "colab": {
      "provenance": []
    },
    "kernelspec": {
      "name": "python3",
      "display_name": "Python 3"
    },
    "language_info": {
      "name": "python"
    }
  },
  "cells": [
    {
      "cell_type": "markdown",
      "source": [
        "#Imports"
      ],
      "metadata": {
        "id": "6sC67BKKQvLN"
      }
    },
    {
      "cell_type": "code",
      "execution_count": 58,
      "metadata": {
        "id": "5lAyePChQMpt"
      },
      "outputs": [],
      "source": [
        "import time\n",
        "from torchvision import datasets\n",
        "from torchvision import transforms\n",
        "from torch.utils.data import DataLoader\n",
        "import torch.nn.functional as F\n",
        "import torch\n",
        "import pandas as pd\n",
        "import matplotlib.pyplot as plt\n"
      ]
    },
    {
      "cell_type": "markdown",
      "source": [
        "#Settings and DataSet"
      ],
      "metadata": {
        "id": "LK-4lfwhQwvr"
      }
    },
    {
      "cell_type": "code",
      "source": [
        "df  = pd.read_csv(\"dataset/iris.data\", index_col = None, header=None)\n",
        "df.columns = ['x1','x2','x3','x4','y']\n",
        "\n",
        "d = {'Iris-versicolor':1,'Iris-virginica':2,'Iris-setosa':0}\n",
        "df['y'] = df['y'].map(d)\n",
        "\n",
        "X = torch.tensor(df[['x2','x4']].values, dtype= torch.float)\n",
        "y = torch.tensor(df['y'].values , dtype = torch.float)\n",
        "\n",
        "# X"
      ],
      "metadata": {
        "id": "q1g-uenAQuTH"
      },
      "execution_count": 59,
      "outputs": []
    },
    {
      "cell_type": "code",
      "source": [
        "torch.manual_seed(123)\n",
        "shuffleIdx = torch.randperm(y.size(0) ,  dtype = torch.long)\n",
        "\n",
        "X, y = X[shuffleIdx], y[shuffleIdx]\n",
        "percent80 = int(y.size(0) * 0.8)\n",
        "\n",
        "# X"
      ],
      "metadata": {
        "id": "7Cw1sm0QVEVR"
      },
      "execution_count": 60,
      "outputs": []
    },
    {
      "cell_type": "code",
      "source": [
        "\n",
        "xTrain , xTest = X[:percent80], X[percent80:]\n",
        "yTrain , yTest = y[:percent80], y[percent80:]\n",
        "\n",
        "# xTrain"
      ],
      "metadata": {
        "id": "i337La1eU7Wl"
      },
      "execution_count": 61,
      "outputs": []
    },
    {
      "cell_type": "code",
      "source": [
        "mu, sigma = xTrain.mean(dim=0) , xTrain.std(dim=0)\n",
        "xTrain = (xTrain-mu)/sigma\n",
        "xTest = (xTest-mu)/sigma"
      ],
      "metadata": {
        "id": "Be7_E5mmhRN0"
      },
      "execution_count": 62,
      "outputs": []
    },
    {
      "cell_type": "code",
      "source": [
        "fig, ax = plt.subplots(1,2, figsize=(7,2.5))\n",
        "ax[0].scatter(xTrain[yTrain==2,0] , xTrain[yTrain==2,1])\n",
        "ax[0].scatter(xTrain[yTrain==1,0] , xTrain[yTrain==1,1],marker='v')\n",
        "ax[0].scatter(xTrain[yTrain==0,0] , xTrain[yTrain==0,1],marker='s')\n",
        "ax[1].scatter(xTest[yTest==2,0] , xTest[yTest==2,1])\n",
        "ax[1].scatter(xTest[yTest==1,0] , xTest[yTest==1,1],marker='v')\n",
        "ax[1].scatter(xTest[yTest==0,0] , xTest[yTest==0,1],marker='s')"
      ],
      "metadata": {
        "colab": {
          "base_uri": "https://localhost:8080/",
          "height": 270
        },
        "id": "6lllT6oph0nJ",
        "outputId": "612653f2-79d8-4774-e833-8c6bb86a4ec3"
      },
      "execution_count": 63,
      "outputs": [
        {
          "output_type": "execute_result",
          "data": {
            "text/plain": [
              "<matplotlib.collections.PathCollection at 0x790ab0b877c0>"
            ]
          },
          "metadata": {},
          "execution_count": 63
        },
        {
          "output_type": "display_data",
          "data": {
            "text/plain": [
              "<Figure size 700x250 with 2 Axes>"
            ],
            "image/png": "[encoded data removed]"
          },
          "metadata": {}
        }
      ]
    },
    {
      "cell_type": "markdown",
      "source": [
        "#Scratch Implementation"
      ],
      "metadata": {
        "id": "Ffi3gIJdigzM"
      }
    },
    {
      "cell_type": "code",
      "source": [
        "DEVICE = torch.device(\"cuda:0\" if torch.cuda.is_available() else 'cpu')\n"
      ],
      "metadata": {
        "id": "VyZBc4GDijRD"
      },
      "execution_count": 64,
      "outputs": []
    },
    {
      "cell_type": "code",
      "source": [
        "def toOneHot(y,numClasses):\n",
        "  yOneHot = torch.FloatTensor(y.size(0), numClasses)\n",
        "  yOneHot.zero_()\n",
        "  yCPU = y.to(torch.device('cpu'))\n",
        "  yOneHot.scatter_(1,yCPU.view(-1,1).long(),1).float()\n",
        "  return yOneHot.to(DEVICE)\n",
        "\n",
        "def softmax(z):\n",
        "  return (torch.exp(z.t())/torch.sum(torch.exp(z),dim=1)).t()\n",
        "\n",
        "def crossEntropy(softmax,yTarget):\n",
        "  return -torch.sum(torch.log(softmax)* yTarget, dim=1)\n",
        ""
      ],
      "metadata": {
        "id": "1uTIE-nvi9UK"
      },
      "execution_count": 65,
      "outputs": []
    },
    {
      "cell_type": "code",
      "source": [
        "class softmaxRegression():\n",
        "  def __init__(self,numFeatures,numClasses):\n",
        "    self.numFeatures = numFeatures\n",
        "    self.numClasses = numClasses\n",
        "    self.weights = torch.zeros(numClasses, numFeatures, # nC * nF\n",
        "                               dtype=torch.float32, device=DEVICE)\n",
        "    self.bias = torch.zeros(numClasses, dtype = torch.float32, device=DEVICE)\n",
        "\n",
        "  def forward(self,x):\n",
        "    logits = torch.mm(x,self.weights.t()) + self.bias\n",
        "    probas = softmax(logits)\n",
        "    return logits,probas\n",
        "\n",
        "  def backward(self,x,y,probas):\n",
        "    gradLossWrtW = -torch.mm(x.t(), y - probas).t()\n",
        "    gradLossWrtB = -torch.sum(y-probas)\n",
        "    return gradLossWrtW, gradLossWrtB\n",
        "\n",
        "  def predict(self,x):\n",
        "    logits, probas = self.forward(x)\n",
        "    labels = torch.argmax(probas,dim=1)\n",
        "    return labels\n",
        "\n",
        "  def evaluate(self,x,y):\n",
        "    pred  = self.predict(x).float()\n",
        "    acc = torch.sum(pred.view(-1) == y.float()).item() / y.size(0)\n",
        "    return acc\n",
        "\n",
        "  def train(self,x,y,numEpoch, learningRate = 0.1):\n",
        "    epochCost = []\n",
        "    yOneHot = toOneHot(y,self.numClasses)\n",
        "    for e in range(numEpoch):\n",
        "\n",
        "      logits,probas = self.forward(x)\n",
        "      gradW, gradB = self.backward(x,yOneHot,probas)\n",
        "      self.weights-=learningRate* gradW / y.size(0)\n",
        "      self.bias-=learningRate*gradB / y.size(0)\n",
        "      acc = self.evaluate(x,y)\n",
        "\n",
        "      logits,probas = self.forward(x)\n",
        "      cost = torch.mean(crossEntropy(probas, yOneHot))\n",
        "      epochCost.append(cost)\n",
        "    return epochCost\n"
      ],
      "metadata": {
        "id": "1YZKUwrekDUb"
      },
      "execution_count": 66,
      "outputs": []
    },
    {
      "cell_type": "code",
      "source": [
        "xTrain = xTrain.to(DEVICE)\n",
        "yTrain = yTrain.to(DEVICE)\n",
        "\n",
        "model = softmaxRegression(2,3)\n",
        "epochCost = model.train(xTrain,yTrain,50,learningRate=0.1)\n",
        "\n"
      ],
      "metadata": {
        "id": "AWi9dJ0onoV9"
      },
      "execution_count": 67,
      "outputs": []
    },
    {
      "cell_type": "code",
      "source": [
        "epochCost"
      ],
      "metadata": {
        "colab": {
          "base_uri": "https://localhost:8080/"
        },
        "id": "d6-5vZxhoDvN",
        "outputId": "35c385ef-2bf4-47c2-b59b-310566d9a259"
      },
      "execution_count": 68,
      "outputs": [
        {
          "output_type": "execute_result",
          "data": {
            "text/plain": [
              "[tensor(1.0571),\n",
              " tensor(1.0189),\n",
              " tensor(0.9837),\n",
              " tensor(0.9513),\n",
              " tensor(0.9215),\n",
              " tensor(0.8940),\n",
              " tensor(0.8687),\n",
              " tensor(0.8453),\n",
              " tensor(0.8236),\n",
              " tensor(0.8036),\n",
              " tensor(0.7851),\n",
              " tensor(0.7678),\n",
              " tensor(0.7518),\n",
              " tensor(0.7368),\n",
              " tensor(0.7228),\n",
              " tensor(0.7098),\n",
              " tensor(0.6975),\n",
              " tensor(0.6860),\n",
              " tensor(0.6752),\n",
              " tensor(0.6651),\n",
              " tensor(0.6555),\n",
              " tensor(0.6465),\n",
              " tensor(0.6379),\n",
              " tensor(0.6298),\n",
              " tensor(0.6221),\n",
              " tensor(0.6149),\n",
              " tensor(0.6079),\n",
              " tensor(0.6014),\n",
              " tensor(0.5951),\n",
              " tensor(0.5891),\n",
              " tensor(0.5834),\n",
              " tensor(0.5780),\n",
              " tensor(0.5728),\n",
              " tensor(0.5678),\n",
              " tensor(0.5630),\n",
              " tensor(0.5585),\n",
              " tensor(0.5541),\n",
              " tensor(0.5499),\n",
              " tensor(0.5458),\n",
              " tensor(0.5419),\n",
              " tensor(0.5382),\n",
              " tensor(0.5346),\n",
              " tensor(0.5311),\n",
              " tensor(0.5278),\n",
              " tensor(0.5246),\n",
              " tensor(0.5214),\n",
              " tensor(0.5184),\n",
              " tensor(0.5155),\n",
              " tensor(0.5127),\n",
              " tensor(0.5100)]"
            ]
          },
          "metadata": {},
          "execution_count": 68
        }
      ]
    },
    {
      "cell_type": "code",
      "source": [
        "print(\"\\nModel Parameters:\\n\")\n",
        "print(' Weights: %s' % model.weights)\n",
        "print(' Bias: %s' % model.bias)"
      ],
      "metadata": {
        "colab": {
          "base_uri": "https://localhost:8080/"
        },
        "id": "05d9hmT1pZ7h",
        "outputId": "691ec411-12f3-4044-d012-7363a1ba9a26"
      },
      "execution_count": 69,
      "outputs": [
        {
          "output_type": "stream",
          "name": "stdout",
          "text": [
            "\n",
            "Model Parameters:\n",
            "\n",
            " Weights: tensor([[ 0.5539, -1.0034],\n",
            "        [-0.5558,  0.0563],\n",
            "        [ 0.0020,  0.9471]])\n",
            " Bias: tensor([-1.5497e-08, -1.5497e-08, -1.5497e-08])\n"
          ]
        }
      ]
    },
    {
      "cell_type": "markdown",
      "source": [
        "##Evaluating the Model"
      ],
      "metadata": {
        "id": "wnfonhUk0Gmi"
      }
    },
    {
      "cell_type": "code",
      "source": [
        "plt.plot(epochCost)\n",
        "plt.ylabel('Negative log likelyhood loss')\n",
        "plt.xlabel('Epoch')\n",
        "plt.show()"
      ],
      "metadata": {
        "colab": {
          "base_uri": "https://localhost:8080/",
          "height": 449
        },
        "id": "OnVWSHVXp18_",
        "outputId": "a7c3a857-24d4-4d75-f307-6320f5094f60"
      },
      "execution_count": 70,
      "outputs": [
        {
          "output_type": "display_data",
          "data": {
            "text/plain": [
              "<Figure size 640x480 with 1 Axes>"
            ],
            "image/png": "[encoded data removed]"
          },
          "metadata": {}
        }
      ]
    },
    {
      "cell_type": "code",
      "source": [
        "xTest = xTest.to(DEVICE)\n",
        "yTest = yTest.to(DEVICE)\n",
        "\n",
        "testAcc = model.evaluate(xTest,yTest)\n",
        "print('Test set Accuracy: %.2f%%' % (testAcc*100))"
      ],
      "metadata": {
        "colab": {
          "base_uri": "https://localhost:8080/"
        },
        "id": "b_AkvQCV0U8p",
        "outputId": "cdc33cb0-11bb-4023-d116-ec8f69145555"
      },
      "execution_count": 71,
      "outputs": [
        {
          "output_type": "stream",
          "name": "stdout",
          "text": [
            "Test set Accuracy: 86.67%\n"
          ]
        }
      ]
    },
    {
      "cell_type": "code",
      "source": [
        "from matplotlib.colors import ListedColormap\n",
        "import numpy as np\n",
        "\n",
        "def plotDecisionRegions(X,y,classifier, resolution=0.02):\n",
        "\n",
        "  markers = ['s','x','o','^','v']\n",
        "  colors  = ['red','blue','lightgreen','gray','cyan']\n",
        "  cmap = ListedColormap(colors[:len(np.unique(y))])\n",
        "\n",
        "  x1min , x1max = X[: ,0].min() -1, X[:,0].max()+1\n",
        "  x2min , x2max = X[: ,1].min() -1, X[:,1].max()+1\n",
        "  xx1, xx2 = np.meshgrid(np.arange(x1min,x1max,resolution),\n",
        "                         np.arange(x2min,x2max,resolution))\n",
        "  tensor = torch.tensor(np.array([xx1.ravel(),xx2.ravel()]).T).float()\n",
        "  logits, probas = classifier.forward(tensor)\n",
        "  z = np.argmax(probas.detach().numpy(),axis=1)\n",
        "  z = z.reshape(xx1.shape)\n",
        "\n",
        "  plt.contourf(xx1,xx2,z, alpha=0.4,cmap=cmap)\n",
        "  plt.xlim(xx1.min(),xx1.max())\n",
        "  plt.ylim(xx2.min(),xx2.max())\n",
        "\n",
        "  for idx,cl in enumerate(np.unique(y)):\n",
        "    plt.scatter(x=X[y==cl,0], y=X[y == cl,1],\n",
        "                alpha=0.8,color=cmap(idx),\n",
        "                edgecolor = 'black',\n",
        "                marker = markers[idx],\n",
        "                label = cl)"
      ],
      "metadata": {
        "id": "iGiv8R7q0wJs"
      },
      "execution_count": 76,
      "outputs": []
    },
    {
      "cell_type": "code",
      "source": [
        "plotDecisionRegions(xTrain,yTrain,classifier=model)\n",
        "plt.xlabel('sepal length [cm]')\n",
        "plt.ylabel('petal length [cm]')\n",
        "plt.legend(loc= 'upper left')\n",
        "\n",
        "plt.tight_layout()\n",
        "plt.show()"
      ],
      "metadata": {
        "colab": {
          "base_uri": "https://localhost:8080/",
          "height": 542
        },
        "id": "_eq5k4Rn3Ep0",
        "outputId": "0bbadac3-7ca4-4a49-ed43-1a7dd85a71b2"
      },
      "execution_count": 77,
      "outputs": [
        {
          "output_type": "stream",
          "name": "stderr",
          "text": [
            "<ipython-input-76-252ace65f377>:24: UserWarning: You passed a edgecolor/edgecolors ('black') for an unfilled marker ('x').  Matplotlib is ignoring the edgecolor in favor of the facecolor.  This behavior may change in the future.\n",
            "  plt.scatter(x=X[y==cl,0], y=X[y == cl,1],\n"
          ]
        },
        {
          "output_type": "display_data",
          "data": {
            "text/plain": [
              "<Figure size 640x480 with 1 Axes>"
            ],
            "image/png": "[encoded data removed]"
          },
          "metadata": {}
        }
      ]
    }
  ]
}