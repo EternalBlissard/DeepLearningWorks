{
  "nbformat": 4,
  "nbformat_minor": 0,
  "metadata": {
    "colab": {
      "provenance": []
    },
    "kernelspec": {
      "name": "python3",
      "display_name": "Python 3"
    },
    "language_info": {
      "name": "python"
    }
  },
  "cells": [
    {
      "cell_type": "markdown",
      "source": [
        "#Import"
      ],
      "metadata": {
        "id": "GmtF-AgN4arl"
      }
    },
    {
      "cell_type": "code",
      "execution_count": 86,
      "metadata": {
        "id": "rLr8e7pa4H5l"
      },
      "outputs": [],
      "source": [
        "import time\n",
        "from torchvision import datasets\n",
        "from torchvision import transforms\n",
        "from torch.utils.data import DataLoader\n",
        "import torch.nn.functional as F\n",
        "import torch\n",
        "import pandas as pd\n",
        "import matplotlib.pyplot as plt"
      ]
    },
    {
      "cell_type": "markdown",
      "source": [
        "##Data PreProcessing"
      ],
      "metadata": {
        "id": "c5hFKo7_4cNJ"
      }
    },
    {
      "cell_type": "code",
      "source": [
        "df  = pd.read_csv(\"dataset/iris.data\", index_col = None, header=None)\n",
        "df.columns = ['x1','x2','x3','x4','y']\n",
        "\n",
        "d = {'Iris-versicolor':1,'Iris-virginica':2,'Iris-setosa':0}\n",
        "df['y'] = df['y'].map(d)\n",
        "\n",
        "X = torch.tensor(df[['x2','x4']].values, dtype= torch.float)\n",
        "y = torch.tensor(df['y'].values , dtype = torch.float)"
      ],
      "metadata": {
        "id": "PM4pSzNF4Rwn"
      },
      "execution_count": 87,
      "outputs": []
    },
    {
      "cell_type": "code",
      "source": [
        "torch.manual_seed(123)\n",
        "shuffleIdx = torch.randperm(y.size(0) ,  dtype = torch.long)\n",
        "\n",
        "X, y = X[shuffleIdx], y[shuffleIdx]\n",
        "percent80 = int(y.size(0) * 0.8)\n"
      ],
      "metadata": {
        "id": "LnGXQZ3c4Sz4"
      },
      "execution_count": 88,
      "outputs": []
    },
    {
      "cell_type": "code",
      "source": [
        "\n",
        "xTrain , xTest = X[:percent80], X[percent80:]\n",
        "yTrain , yTest = y[:percent80], y[percent80:]\n",
        "\n",
        "# xTrain"
      ],
      "metadata": {
        "id": "vhlBsabf4WfE"
      },
      "execution_count": 89,
      "outputs": []
    },
    {
      "cell_type": "code",
      "source": [
        "mu, sigma = xTrain.mean(dim=0) , xTrain.std(dim=0)\n",
        "xTrain = (xTrain-mu)/sigma\n",
        "xTest = (xTest-mu)/sigma"
      ],
      "metadata": {
        "id": "xFTfUTUW4YEz"
      },
      "execution_count": 90,
      "outputs": []
    },
    {
      "cell_type": "code",
      "source": [
        "fig, ax = plt.subplots(1,2, figsize=(7,2.5))\n",
        "ax[0].scatter(xTrain[yTrain==2,0] , xTrain[yTrain==2,1])\n",
        "ax[0].scatter(xTrain[yTrain==1,0] , xTrain[yTrain==1,1],marker='v')\n",
        "ax[0].scatter(xTrain[yTrain==0,0] , xTrain[yTrain==0,1],marker='s')\n",
        "ax[1].scatter(xTest[yTest==2,0] , xTest[yTest==2,1])\n",
        "ax[1].scatter(xTest[yTest==1,0] , xTest[yTest==1,1],marker='v')\n",
        "ax[1].scatter(xTest[yTest==0,0] , xTest[yTest==0,1],marker='s')"
      ],
      "metadata": {
        "colab": {
          "base_uri": "https://localhost:8080/",
          "height": 270
        },
        "id": "WBbb6S044ZsW",
        "outputId": "4773ddec-1d3e-46f4-e998-1b56a3a6161e"
      },
      "execution_count": 91,
      "outputs": [
        {
          "output_type": "execute_result",
          "data": {
            "text/plain": [
              "<matplotlib.collections.PathCollection at 0x7cfb7b78bca0>"
            ]
          },
          "metadata": {},
          "execution_count": 91
        },
        {
          "output_type": "display_data",
          "data": {
            "text/plain": [
              "<Figure size 700x250 with 2 Axes>"
            ],
            "image/png": "[encoded data removed]"
          },
          "metadata": {}
        }
      ]
    },
    {
      "cell_type": "markdown",
      "source": [
        "#API Implementation"
      ],
      "metadata": {
        "id": "626PBtPq4e7q"
      }
    },
    {
      "cell_type": "code",
      "source": [
        "DEVICE = torch.device(\"cuda:0\" if torch.cuda.is_available() else 'cpu')"
      ],
      "metadata": {
        "id": "i05jf1-54spp"
      },
      "execution_count": 92,
      "outputs": []
    },
    {
      "cell_type": "code",
      "source": [
        "class softmaxRegression(torch.nn.Module):\n",
        "\n",
        "  def __init__(self,numFeatures,numClasses):\n",
        "    super(softmaxRegression,self).__init__()\n",
        "    self.linear = torch.nn.Linear(numFeatures, numClasses)\n",
        "    self.linear.weight.detach().zero_()\n",
        "    self.linear.bias.detach().zero_()\n",
        "\n",
        "  def predict(self,x):\n",
        "    logits, probas = self.forward(x)\n",
        "    labels = torch.argmax(probas,dim=1)\n",
        "    return labels\n",
        "\n",
        "  def forward(self,x):\n",
        "    logits = self.linear(x)\n",
        "    probas = F.softmax(logits,dim=1)\n",
        "    return logits,probas\n",
        "\n",
        "  def evaluate(self,x,y):\n",
        "    pred  = self.predict(x).float()\n",
        "    acc = torch.sum(pred.view(-1) == y.float()).item() / y.size(0)\n",
        "    return acc\n"
      ],
      "metadata": {
        "id": "jlm2Qg4c4tiL"
      },
      "execution_count": 93,
      "outputs": []
    },
    {
      "cell_type": "code",
      "source": [
        "model = softmaxRegression(2,3).to(DEVICE)\n",
        "optimizer = torch.optim.SGD(model.parameters(),lr=0.1)\n"
      ],
      "metadata": {
        "id": "JAA5rbq45rSO"
      },
      "execution_count": 94,
      "outputs": []
    },
    {
      "cell_type": "code",
      "source": [
        "def comp_Accuracy(trueLabels,predLabels):\n",
        "  acc = torch.sum(trueLabels.view(-1).float()==predLabels.float()).item() / trueLabels.size(0)\n",
        "  return acc\n",
        "\n"
      ],
      "metadata": {
        "id": "A2HKQOjn56JZ"
      },
      "execution_count": 95,
      "outputs": []
    },
    {
      "cell_type": "code",
      "source": [
        "xTrain = xTrain.to(DEVICE)\n",
        "yTrain = yTrain.to(DEVICE)\n",
        "xTest  = xTest.to(DEVICE)\n",
        "yTest  = yTest.to(DEVICE)"
      ],
      "metadata": {
        "id": "jVXxGeZP6Rjv"
      },
      "execution_count": 96,
      "outputs": []
    },
    {
      "cell_type": "code",
      "source": [
        "numEpoch = 50\n",
        "\n",
        "for e in range(numEpoch):\n",
        "\n",
        "  ##Computing Outputs\n",
        "  logits, probas = model(xTrain)\n",
        "\n",
        "  ##Computing Gradients\n",
        "  cost = F.cross_entropy(logits, yTrain.long())\n",
        "  optimizer.zero_grad()\n",
        "  cost.backward()\n",
        "\n",
        "  ##Update Weights\n",
        "  optimizer.step()\n",
        "\n",
        "  ##Logging\n",
        "  logits,probas = model(xTrain)\n",
        "  acc = comp_Accuracy(yTrain,torch.argmax(probas,dim=1))\n",
        "  print('Epoch :%03d' %(e+1), end=\"\")\n",
        "  print(' | Train ACC: %.3f' % acc, end=\"\")\n",
        "  print(' | Cost :%.3f' %F.cross_entropy(logits,yTrain.long()))\n",
        "\n"
      ],
      "metadata": {
        "colab": {
          "base_uri": "https://localhost:8080/"
        },
        "id": "DQnQGoI46bsb",
        "outputId": "4c7aaa3e-8014-41b5-83b5-940c34368bc4"
      },
      "execution_count": 97,
      "outputs": [
        {
          "output_type": "stream",
          "name": "stdout",
          "text": [
            "Epoch :001 | Train ACC: 0.833 | Cost :1.057\n",
            "Epoch :002 | Train ACC: 0.842 | Cost :1.019\n",
            "Epoch :003 | Train ACC: 0.842 | Cost :0.984\n",
            "Epoch :004 | Train ACC: 0.842 | Cost :0.951\n",
            "Epoch :005 | Train ACC: 0.842 | Cost :0.921\n",
            "Epoch :006 | Train ACC: 0.842 | Cost :0.894\n",
            "Epoch :007 | Train ACC: 0.842 | Cost :0.868\n",
            "Epoch :008 | Train ACC: 0.842 | Cost :0.845\n",
            "Epoch :009 | Train ACC: 0.850 | Cost :0.823\n",
            "Epoch :010 | Train ACC: 0.850 | Cost :0.803\n",
            "Epoch :011 | Train ACC: 0.850 | Cost :0.784\n",
            "Epoch :012 | Train ACC: 0.850 | Cost :0.767\n",
            "Epoch :013 | Train ACC: 0.850 | Cost :0.750\n",
            "Epoch :014 | Train ACC: 0.850 | Cost :0.735\n",
            "Epoch :015 | Train ACC: 0.850 | Cost :0.721\n",
            "Epoch :016 | Train ACC: 0.850 | Cost :0.708\n",
            "Epoch :017 | Train ACC: 0.850 | Cost :0.695\n",
            "Epoch :018 | Train ACC: 0.850 | Cost :0.684\n",
            "Epoch :019 | Train ACC: 0.850 | Cost :0.673\n",
            "Epoch :020 | Train ACC: 0.850 | Cost :0.662\n",
            "Epoch :021 | Train ACC: 0.850 | Cost :0.652\n",
            "Epoch :022 | Train ACC: 0.850 | Cost :0.643\n",
            "Epoch :023 | Train ACC: 0.850 | Cost :0.634\n",
            "Epoch :024 | Train ACC: 0.850 | Cost :0.626\n",
            "Epoch :025 | Train ACC: 0.850 | Cost :0.618\n",
            "Epoch :026 | Train ACC: 0.850 | Cost :0.610\n",
            "Epoch :027 | Train ACC: 0.850 | Cost :0.603\n",
            "Epoch :028 | Train ACC: 0.850 | Cost :0.596\n",
            "Epoch :029 | Train ACC: 0.850 | Cost :0.590\n",
            "Epoch :030 | Train ACC: 0.850 | Cost :0.583\n",
            "Epoch :031 | Train ACC: 0.850 | Cost :0.577\n",
            "Epoch :032 | Train ACC: 0.850 | Cost :0.571\n",
            "Epoch :033 | Train ACC: 0.850 | Cost :0.566\n",
            "Epoch :034 | Train ACC: 0.850 | Cost :0.561\n",
            "Epoch :035 | Train ACC: 0.850 | Cost :0.556\n",
            "Epoch :036 | Train ACC: 0.850 | Cost :0.551\n",
            "Epoch :037 | Train ACC: 0.850 | Cost :0.546\n",
            "Epoch :038 | Train ACC: 0.850 | Cost :0.541\n",
            "Epoch :039 | Train ACC: 0.850 | Cost :0.537\n",
            "Epoch :040 | Train ACC: 0.850 | Cost :0.533\n",
            "Epoch :041 | Train ACC: 0.850 | Cost :0.529\n",
            "Epoch :042 | Train ACC: 0.850 | Cost :0.525\n",
            "Epoch :043 | Train ACC: 0.850 | Cost :0.521\n",
            "Epoch :044 | Train ACC: 0.850 | Cost :0.517\n",
            "Epoch :045 | Train ACC: 0.850 | Cost :0.514\n",
            "Epoch :046 | Train ACC: 0.850 | Cost :0.510\n",
            "Epoch :047 | Train ACC: 0.850 | Cost :0.507\n",
            "Epoch :048 | Train ACC: 0.850 | Cost :0.504\n",
            "Epoch :049 | Train ACC: 0.850 | Cost :0.500\n",
            "Epoch :050 | Train ACC: 0.850 | Cost :0.497\n"
          ]
        }
      ]
    },
    {
      "cell_type": "code",
      "source": [
        "print('\\n Model Param \\n')\n",
        "print(' Weights: %s' % model.linear.weight)\n",
        "print(' Bias: %s' % model.linear.bias)\n"
      ],
      "metadata": {
        "colab": {
          "base_uri": "https://localhost:8080/"
        },
        "id": "65wp0ebi8Bgd",
        "outputId": "03876eac-955e-459f-e8bd-307f68d584ff"
      },
      "execution_count": 98,
      "outputs": [
        {
          "output_type": "stream",
          "name": "stdout",
          "text": [
            "\n",
            " Model Param \n",
            "\n",
            " Weights: Parameter containing:\n",
            "tensor([[ 0.5532, -1.0158],\n",
            "        [-0.5410,  0.0516],\n",
            "        [-0.0121,  0.9641]], requires_grad=True)\n",
            " Bias: Parameter containing:\n",
            "tensor([-0.1015,  0.1370, -0.0355], requires_grad=True)\n"
          ]
        }
      ]
    },
    {
      "cell_type": "code",
      "source": [
        "testAcc = model.evaluate(xTest,yTest)\n",
        "print('Test Accu:',(testAcc * 100))"
      ],
      "metadata": {
        "colab": {
          "base_uri": "https://localhost:8080/"
        },
        "id": "iBf5sZwd8WkY",
        "outputId": "16ef6681-02e4-437a-9c8e-bc534390258c"
      },
      "execution_count": 99,
      "outputs": [
        {
          "output_type": "stream",
          "name": "stdout",
          "text": [
            "Test Accu: 90.0\n"
          ]
        }
      ]
    },
    {
      "cell_type": "code",
      "source": [
        "from matplotlib.colors import ListedColormap\n",
        "import numpy as np\n",
        "\n",
        "def plotDecisionRegions(X,y,classifier, resolution=0.02):\n",
        "\n",
        "  markers = ['s','x','o','^','v']\n",
        "  colors  = ['red','blue','lightgreen','gray','cyan']\n",
        "  cmap = ListedColormap(colors[:len(np.unique(y))])\n",
        "\n",
        "  x1min , x1max = X[: ,0].min() -1, X[:,0].max()+1\n",
        "  x2min , x2max = X[: ,1].min() -1, X[:,1].max()+1\n",
        "  xx1, xx2 = np.meshgrid(np.arange(x1min,x1max,resolution),\n",
        "                         np.arange(x2min,x2max,resolution))\n",
        "  tensor = torch.tensor(np.array([xx1.ravel(),xx2.ravel()]).T).float()\n",
        "  logits, probas = classifier.forward(tensor)\n",
        "  z = np.argmax(probas.detach().numpy(),axis=1)\n",
        "  z = z.reshape(xx1.shape)\n",
        "\n",
        "  plt.contourf(xx1,xx2,z, alpha=0.4,cmap=cmap)\n",
        "  plt.xlim(xx1.min(),xx1.max())\n",
        "  plt.ylim(xx2.min(),xx2.max())\n",
        "\n",
        "  for idx,cl in enumerate(np.unique(y)):\n",
        "    plt.scatter(x=X[y==cl,0], y=X[y == cl,1],\n",
        "                alpha=0.8,color=cmap(idx),\n",
        "                edgecolor = 'black',\n",
        "                marker = markers[idx],\n",
        "                label = cl)"
      ],
      "metadata": {
        "id": "0nTeQfwA9lUW"
      },
      "execution_count": 100,
      "outputs": []
    },
    {
      "cell_type": "code",
      "source": [
        "plotDecisionRegions(xTrain,yTrain,classifier=model)\n",
        "plt.xlabel('sepal length [cm]')\n",
        "plt.ylabel('petal length [cm]')\n",
        "plt.legend(loc= 'upper left')\n",
        "\n",
        "plt.tight_layout()\n",
        "plt.show()"
      ],
      "metadata": {
        "colab": {
          "base_uri": "https://localhost:8080/",
          "height": 542
        },
        "id": "TcCo0Y9N9oG_",
        "outputId": "6ac8f295-ae96-4593-8410-00f9891a5486"
      },
      "execution_count": 101,
      "outputs": [
        {
          "output_type": "stream",
          "name": "stderr",
          "text": [
            "<ipython-input-100-252ace65f377>:24: UserWarning: You passed a edgecolor/edgecolors ('black') for an unfilled marker ('x').  Matplotlib is ignoring the edgecolor in favor of the facecolor.  This behavior may change in the future.\n",
            "  plt.scatter(x=X[y==cl,0], y=X[y == cl,1],\n"
          ]
        },
        {
          "output_type": "display_data",
          "data": {
            "text/plain": [
              "<Figure size 640x480 with 1 Axes>"
            ],
            "image/png": "[encoded data removed]"
          },
          "metadata": {}
        }
      ]
    }
  ]
}